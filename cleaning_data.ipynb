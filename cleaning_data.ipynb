{
 "cells": [
  {
   "cell_type": "code",
   "execution_count": 1,
   "metadata": {},
   "outputs": [],
   "source": [
    "# Import our dependencies\n",
    "\n",
    "import numpy as np\n",
    "import pandas as pd\n",
    "\n",
    "df = pd.read_csv(\"Dataset.csv\")\n"
   ]
  },
  {
   "cell_type": "code",
   "execution_count": 2,
   "metadata": {},
   "outputs": [
    {
     "name": "stdout",
     "output_type": "stream",
     "text": [
      "['encounter_id' 'patient_id' 'hospital_id' 'hospital_death' 'age' 'bmi'\n",
      " 'elective_surgery' 'ethnicity' 'gender' 'height' 'hospital_admit_source'\n",
      " 'icu_admit_source' 'icu_id' 'icu_stay_type' 'icu_type' 'pre_icu_los_days'\n",
      " 'readmission_status' 'weight' 'albumin_apache' 'apache_2_diagnosis'\n",
      " 'apache_3j_diagnosis' 'apache_post_operative' 'arf_apache'\n",
      " 'bilirubin_apache' 'bun_apache' 'creatinine_apache' 'fio2_apache'\n",
      " 'gcs_eyes_apache' 'gcs_motor_apache' 'gcs_unable_apache'\n",
      " 'gcs_verbal_apache' 'glucose_apache' 'heart_rate_apache'\n",
      " 'hematocrit_apache' 'intubated_apache' 'map_apache' 'paco2_apache'\n",
      " 'paco2_for_ph_apache' 'pao2_apache' 'ph_apache' 'resprate_apache'\n",
      " 'sodium_apache' 'temp_apache' 'urineoutput_apache' 'ventilated_apache'\n",
      " 'wbc_apache' 'd1_diasbp_invasive_max' 'd1_diasbp_invasive_min'\n",
      " 'd1_diasbp_max' 'd1_diasbp_min' 'd1_diasbp_noninvasive_max'\n",
      " 'd1_diasbp_noninvasive_min' 'd1_heartrate_max' 'd1_heartrate_min'\n",
      " 'd1_mbp_invasive_max' 'd1_mbp_invasive_min' 'd1_mbp_max' 'd1_mbp_min'\n",
      " 'd1_mbp_noninvasive_max' 'd1_mbp_noninvasive_min' 'd1_resprate_max'\n",
      " 'd1_resprate_min' 'd1_spo2_max' 'd1_spo2_min' 'd1_sysbp_invasive_max'\n",
      " 'd1_sysbp_invasive_min' 'd1_sysbp_max' 'd1_sysbp_min'\n",
      " 'd1_sysbp_noninvasive_max' 'd1_sysbp_noninvasive_min' 'd1_temp_max'\n",
      " 'd1_temp_min' 'h1_diasbp_invasive_max' 'h1_diasbp_invasive_min'\n",
      " 'h1_diasbp_max' 'h1_diasbp_min' 'h1_diasbp_noninvasive_max'\n",
      " 'h1_diasbp_noninvasive_min' 'h1_heartrate_max' 'h1_heartrate_min'\n",
      " 'h1_mbp_invasive_max' 'h1_mbp_invasive_min' 'h1_mbp_max' 'h1_mbp_min'\n",
      " 'h1_mbp_noninvasive_max' 'h1_mbp_noninvasive_min' 'h1_resprate_max'\n",
      " 'h1_resprate_min' 'h1_spo2_max' 'h1_spo2_min' 'h1_sysbp_invasive_max'\n",
      " 'h1_sysbp_invasive_min' 'h1_sysbp_max' 'h1_sysbp_min'\n",
      " 'h1_sysbp_noninvasive_max' 'h1_sysbp_noninvasive_min' 'h1_temp_max'\n",
      " 'h1_temp_min' 'd1_albumin_max' 'd1_albumin_min' 'd1_bilirubin_max'\n",
      " 'd1_bilirubin_min' 'd1_bun_max' 'd1_bun_min' 'd1_calcium_max'\n",
      " 'd1_calcium_min' 'd1_creatinine_max' 'd1_creatinine_min' 'd1_glucose_max'\n",
      " 'd1_glucose_min' 'd1_hco3_max' 'd1_hco3_min' 'd1_hemaglobin_max'\n",
      " 'd1_hemaglobin_min' 'd1_hematocrit_max' 'd1_hematocrit_min' 'd1_inr_max'\n",
      " 'd1_inr_min' 'd1_lactate_max' 'd1_lactate_min' 'd1_platelets_max'\n",
      " 'd1_platelets_min' 'd1_potassium_max' 'd1_potassium_min' 'd1_sodium_max'\n",
      " 'd1_sodium_min' 'd1_wbc_max' 'd1_wbc_min' 'h1_albumin_max'\n",
      " 'h1_albumin_min' 'h1_bilirubin_max' 'h1_bilirubin_min' 'h1_bun_max'\n",
      " 'h1_bun_min' 'h1_calcium_max' 'h1_calcium_min' 'h1_creatinine_max'\n",
      " 'h1_creatinine_min' 'h1_glucose_max' 'h1_glucose_min' 'h1_hco3_max'\n",
      " 'h1_hco3_min' 'h1_hemaglobin_max' 'h1_hemaglobin_min' 'h1_hematocrit_max'\n",
      " 'h1_hematocrit_min' 'h1_inr_max' 'h1_inr_min' 'h1_lactate_max'\n",
      " 'h1_lactate_min' 'h1_platelets_max' 'h1_platelets_min' 'h1_potassium_max'\n",
      " 'h1_potassium_min' 'h1_sodium_max' 'h1_sodium_min' 'h1_wbc_max'\n",
      " 'h1_wbc_min' 'd1_arterial_pco2_max' 'd1_arterial_pco2_min'\n",
      " 'd1_arterial_ph_max' 'd1_arterial_ph_min' 'd1_arterial_po2_max'\n",
      " 'd1_arterial_po2_min' 'd1_pao2fio2ratio_max' 'd1_pao2fio2ratio_min'\n",
      " 'h1_arterial_pco2_max' 'h1_arterial_pco2_min' 'h1_arterial_ph_max'\n",
      " 'h1_arterial_ph_min' 'h1_arterial_po2_max' 'h1_arterial_po2_min'\n",
      " 'h1_pao2fio2ratio_max' 'h1_pao2fio2ratio_min'\n",
      " 'apache_4a_hospital_death_prob' 'apache_4a_icu_death_prob' 'aids'\n",
      " 'cirrhosis' 'diabetes_mellitus' 'hepatic_failure' 'immunosuppression'\n",
      " 'leukemia' 'lymphoma' 'solid_tumor_with_metastasis'\n",
      " 'apache_3j_bodysystem' 'apache_2_bodysystem']\n"
     ]
    }
   ],
   "source": [
    "print(df.columns.values)"
   ]
  },
  {
   "cell_type": "code",
   "execution_count": 3,
   "metadata": {},
   "outputs": [],
   "source": [
    "df2 = df[['hospital_death',\n",
    " 'd1_heartrate_min', 'd1_heartrate_max',\n",
    " 'd1_sysbp_min', 'd1_sysbp_max',\n",
    " 'd1_diasbp_max', 'd1_diasbp_min', 'age',\n",
    " 'gcs_eyes_apache', 'gcs_motor_apache', 'gcs_verbal_apache', 'patient_id'\n",
    "  \n",
    "  ]].copy()"
   ]
  },
  {
   "cell_type": "code",
   "execution_count": 4,
   "metadata": {},
   "outputs": [],
   "source": [
    "df2.dropna(inplace=True)"
   ]
  },
  {
   "cell_type": "code",
   "execution_count": 6,
   "metadata": {},
   "outputs": [],
   "source": [
    "df2.to_csv('cleaned_dataset.csv')"
   ]
  }
 ],
 "metadata": {
  "kernelspec": {
   "display_name": "base",
   "language": "python",
   "name": "python3"
  },
  "language_info": {
   "codemirror_mode": {
    "name": "ipython",
    "version": 3
   },
   "file_extension": ".py",
   "mimetype": "text/x-python",
   "name": "python",
   "nbconvert_exporter": "python",
   "pygments_lexer": "ipython3",
   "version": "3.9.12"
  },
  "orig_nbformat": 4,
  "vscode": {
   "interpreter": {
    "hash": "22b72a48d9b597c58d12f1daeb3c3cac8f5d5763dfeedd797d95f395bde95ce1"
   }
  }
 },
 "nbformat": 4,
 "nbformat_minor": 2
}
