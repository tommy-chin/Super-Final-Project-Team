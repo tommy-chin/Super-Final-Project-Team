{
 "cells": [
  {
   "cell_type": "code",
   "execution_count": 1,
   "metadata": {},
   "outputs": [],
   "source": [
    "# Import our dependencies\n",
    "\n",
    "%matplotlib inline\n",
    "from matplotlib import pyplot as plt\n",
    "from sklearn.datasets import make_classification\n",
    "import numpy as np\n",
    "import pandas as pd\n",
    "from sklearn.ensemble import RandomForestClassifier\n",
    "from sklearn.linear_model import LogisticRegression\n",
    "from sklearn.model_selection import train_test_split\n",
    "from sklearn.preprocessing import StandardScaler\n",
    "from sklearn.preprocessing import normalize\n",
    "from scipy.cluster.hierarchy import dendrogram, linkage\n",
    "\n",
    "df = pd.read_csv(\"Dataset.csv\")\n"
   ]
  },
  {
   "cell_type": "code",
   "execution_count": 15,
   "metadata": {},
   "outputs": [
    {
     "name": "stdout",
     "output_type": "stream",
     "text": [
      "['encounter_id' 'patient_id' 'hospital_id' 'hospital_death' 'age' 'bmi'\n",
      " 'elective_surgery' 'ethnicity' 'gender' 'height' 'hospital_admit_source'\n",
      " 'icu_admit_source' 'icu_id' 'icu_stay_type' 'icu_type' 'pre_icu_los_days'\n",
      " 'readmission_status' 'weight' 'albumin_apache' 'apache_2_diagnosis'\n",
      " 'apache_3j_diagnosis' 'apache_post_operative' 'arf_apache'\n",
      " 'bilirubin_apache' 'bun_apache' 'creatinine_apache' 'fio2_apache'\n",
      " 'gcs_eyes_apache' 'gcs_motor_apache' 'gcs_unable_apache'\n",
      " 'gcs_verbal_apache' 'glucose_apache' 'heart_rate_apache'\n",
      " 'hematocrit_apache' 'intubated_apache' 'map_apache' 'paco2_apache'\n",
      " 'paco2_for_ph_apache' 'pao2_apache' 'ph_apache' 'resprate_apache'\n",
      " 'sodium_apache' 'temp_apache' 'urineoutput_apache' 'ventilated_apache'\n",
      " 'wbc_apache' 'd1_diasbp_invasive_max' 'd1_diasbp_invasive_min'\n",
      " 'd1_diasbp_max' 'd1_diasbp_min' 'd1_diasbp_noninvasive_max'\n",
      " 'd1_diasbp_noninvasive_min' 'd1_heartrate_max' 'd1_heartrate_min'\n",
      " 'd1_mbp_invasive_max' 'd1_mbp_invasive_min' 'd1_mbp_max' 'd1_mbp_min'\n",
      " 'd1_mbp_noninvasive_max' 'd1_mbp_noninvasive_min' 'd1_resprate_max'\n",
      " 'd1_resprate_min' 'd1_spo2_max' 'd1_spo2_min' 'd1_sysbp_invasive_max'\n",
      " 'd1_sysbp_invasive_min' 'd1_sysbp_max' 'd1_sysbp_min'\n",
      " 'd1_sysbp_noninvasive_max' 'd1_sysbp_noninvasive_min' 'd1_temp_max'\n",
      " 'd1_temp_min' 'h1_diasbp_invasive_max' 'h1_diasbp_invasive_min'\n",
      " 'h1_diasbp_max' 'h1_diasbp_min' 'h1_diasbp_noninvasive_max'\n",
      " 'h1_diasbp_noninvasive_min' 'h1_heartrate_max' 'h1_heartrate_min'\n",
      " 'h1_mbp_invasive_max' 'h1_mbp_invasive_min' 'h1_mbp_max' 'h1_mbp_min'\n",
      " 'h1_mbp_noninvasive_max' 'h1_mbp_noninvasive_min' 'h1_resprate_max'\n",
      " 'h1_resprate_min' 'h1_spo2_max' 'h1_spo2_min' 'h1_sysbp_invasive_max'\n",
      " 'h1_sysbp_invasive_min' 'h1_sysbp_max' 'h1_sysbp_min'\n",
      " 'h1_sysbp_noninvasive_max' 'h1_sysbp_noninvasive_min' 'h1_temp_max'\n",
      " 'h1_temp_min' 'd1_albumin_max' 'd1_albumin_min' 'd1_bilirubin_max'\n",
      " 'd1_bilirubin_min' 'd1_bun_max' 'd1_bun_min' 'd1_calcium_max'\n",
      " 'd1_calcium_min' 'd1_creatinine_max' 'd1_creatinine_min' 'd1_glucose_max'\n",
      " 'd1_glucose_min' 'd1_hco3_max' 'd1_hco3_min' 'd1_hemaglobin_max'\n",
      " 'd1_hemaglobin_min' 'd1_hematocrit_max' 'd1_hematocrit_min' 'd1_inr_max'\n",
      " 'd1_inr_min' 'd1_lactate_max' 'd1_lactate_min' 'd1_platelets_max'\n",
      " 'd1_platelets_min' 'd1_potassium_max' 'd1_potassium_min' 'd1_sodium_max'\n",
      " 'd1_sodium_min' 'd1_wbc_max' 'd1_wbc_min' 'h1_albumin_max'\n",
      " 'h1_albumin_min' 'h1_bilirubin_max' 'h1_bilirubin_min' 'h1_bun_max'\n",
      " 'h1_bun_min' 'h1_calcium_max' 'h1_calcium_min' 'h1_creatinine_max'\n",
      " 'h1_creatinine_min' 'h1_glucose_max' 'h1_glucose_min' 'h1_hco3_max'\n",
      " 'h1_hco3_min' 'h1_hemaglobin_max' 'h1_hemaglobin_min' 'h1_hematocrit_max'\n",
      " 'h1_hematocrit_min' 'h1_inr_max' 'h1_inr_min' 'h1_lactate_max'\n",
      " 'h1_lactate_min' 'h1_platelets_max' 'h1_platelets_min' 'h1_potassium_max'\n",
      " 'h1_potassium_min' 'h1_sodium_max' 'h1_sodium_min' 'h1_wbc_max'\n",
      " 'h1_wbc_min' 'd1_arterial_pco2_max' 'd1_arterial_pco2_min'\n",
      " 'd1_arterial_ph_max' 'd1_arterial_ph_min' 'd1_arterial_po2_max'\n",
      " 'd1_arterial_po2_min' 'd1_pao2fio2ratio_max' 'd1_pao2fio2ratio_min'\n",
      " 'h1_arterial_pco2_max' 'h1_arterial_pco2_min' 'h1_arterial_ph_max'\n",
      " 'h1_arterial_ph_min' 'h1_arterial_po2_max' 'h1_arterial_po2_min'\n",
      " 'h1_pao2fio2ratio_max' 'h1_pao2fio2ratio_min'\n",
      " 'apache_4a_hospital_death_prob' 'apache_4a_icu_death_prob' 'aids'\n",
      " 'cirrhosis' 'diabetes_mellitus' 'hepatic_failure' 'immunosuppression'\n",
      " 'leukemia' 'lymphoma' 'solid_tumor_with_metastasis'\n",
      " 'apache_3j_bodysystem' 'apache_2_bodysystem']\n"
     ]
    }
   ],
   "source": [
    "print(df.columns.values)"
   ]
  },
  {
   "cell_type": "code",
   "execution_count": 16,
   "metadata": {},
   "outputs": [
    {
     "name": "stdout",
     "output_type": "stream",
     "text": [
      "91713\n"
     ]
    }
   ],
   "source": [
    "print(len(df))\n"
   ]
  },
  {
   "cell_type": "code",
   "execution_count": 17,
   "metadata": {},
   "outputs": [],
   "source": [
    "df2 = df[['hospital_death',\n",
    " 'd1_heartrate_min', 'd1_heartrate_max',\n",
    " 'd1_sysbp_min', 'd1_sysbp_max',\n",
    " 'd1_diasbp_max', 'd1_diasbp_min', 'bmi', \n",
    "  'weight', 'age', \n",
    "  'd1_glucose_min', 'd1_glucose_max',\n",
    "  \n",
    "  ]].copy()"
   ]
  },
  {
   "cell_type": "code",
   "execution_count": 18,
   "metadata": {},
   "outputs": [],
   "source": [
    "# This was used to get 10% of the dataset to run a quick machine learning model. \n",
    "df2 = df2.sample(frac=0.1, replace=True, random_state=1)\n"
   ]
  },
  {
   "cell_type": "code",
   "execution_count": 19,
   "metadata": {},
   "outputs": [],
   "source": [
    "df2.dropna(inplace=True)\n",
    "X = df2.drop('hospital_death', axis=1)\n",
    "X = pd.get_dummies(X)\n",
    "y = df2['hospital_death'] != 1\n",
    "df3 = X"
   ]
  },
  {
   "cell_type": "code",
   "execution_count": 20,
   "metadata": {},
   "outputs": [
    {
     "data": {
      "text/html": [
       "<div>\n",
       "<style scoped>\n",
       "    .dataframe tbody tr th:only-of-type {\n",
       "        vertical-align: middle;\n",
       "    }\n",
       "\n",
       "    .dataframe tbody tr th {\n",
       "        vertical-align: top;\n",
       "    }\n",
       "\n",
       "    .dataframe thead th {\n",
       "        text-align: right;\n",
       "    }\n",
       "</style>\n",
       "<table border=\"1\" class=\"dataframe\">\n",
       "  <thead>\n",
       "    <tr style=\"text-align: right;\">\n",
       "      <th></th>\n",
       "      <th>d1_heartrate_min</th>\n",
       "      <th>d1_heartrate_max</th>\n",
       "      <th>d1_sysbp_min</th>\n",
       "      <th>d1_sysbp_max</th>\n",
       "      <th>d1_diasbp_max</th>\n",
       "      <th>d1_diasbp_min</th>\n",
       "      <th>bmi</th>\n",
       "      <th>weight</th>\n",
       "      <th>age</th>\n",
       "      <th>d1_glucose_min</th>\n",
       "      <th>d1_glucose_max</th>\n",
       "    </tr>\n",
       "  </thead>\n",
       "  <tbody>\n",
       "    <tr>\n",
       "      <th>77708</th>\n",
       "      <td>71.0</td>\n",
       "      <td>109.0</td>\n",
       "      <td>130.0</td>\n",
       "      <td>188.0</td>\n",
       "      <td>113.0</td>\n",
       "      <td>59.0</td>\n",
       "      <td>27.089947</td>\n",
       "      <td>67.2</td>\n",
       "      <td>64.0</td>\n",
       "      <td>152.0</td>\n",
       "      <td>272.0</td>\n",
       "    </tr>\n",
       "    <tr>\n",
       "      <th>5192</th>\n",
       "      <td>72.0</td>\n",
       "      <td>89.0</td>\n",
       "      <td>79.0</td>\n",
       "      <td>133.0</td>\n",
       "      <td>81.0</td>\n",
       "      <td>37.0</td>\n",
       "      <td>28.755829</td>\n",
       "      <td>83.3</td>\n",
       "      <td>76.0</td>\n",
       "      <td>82.0</td>\n",
       "      <td>96.0</td>\n",
       "    </tr>\n",
       "    <tr>\n",
       "      <th>50057</th>\n",
       "      <td>60.0</td>\n",
       "      <td>107.0</td>\n",
       "      <td>93.0</td>\n",
       "      <td>155.0</td>\n",
       "      <td>93.0</td>\n",
       "      <td>54.0</td>\n",
       "      <td>35.274872</td>\n",
       "      <td>108.4</td>\n",
       "      <td>52.0</td>\n",
       "      <td>118.0</td>\n",
       "      <td>178.0</td>\n",
       "    </tr>\n",
       "    <tr>\n",
       "      <th>73349</th>\n",
       "      <td>61.0</td>\n",
       "      <td>97.0</td>\n",
       "      <td>121.0</td>\n",
       "      <td>144.0</td>\n",
       "      <td>72.0</td>\n",
       "      <td>67.0</td>\n",
       "      <td>39.728079</td>\n",
       "      <td>132.9</td>\n",
       "      <td>28.0</td>\n",
       "      <td>126.0</td>\n",
       "      <td>126.0</td>\n",
       "    </tr>\n",
       "    <tr>\n",
       "      <th>21440</th>\n",
       "      <td>101.0</td>\n",
       "      <td>121.0</td>\n",
       "      <td>121.0</td>\n",
       "      <td>167.0</td>\n",
       "      <td>120.0</td>\n",
       "      <td>88.0</td>\n",
       "      <td>22.714002</td>\n",
       "      <td>54.5</td>\n",
       "      <td>30.0</td>\n",
       "      <td>82.0</td>\n",
       "      <td>404.0</td>\n",
       "    </tr>\n",
       "    <tr>\n",
       "      <th>...</th>\n",
       "      <td>...</td>\n",
       "      <td>...</td>\n",
       "      <td>...</td>\n",
       "      <td>...</td>\n",
       "      <td>...</td>\n",
       "      <td>...</td>\n",
       "      <td>...</td>\n",
       "      <td>...</td>\n",
       "      <td>...</td>\n",
       "      <td>...</td>\n",
       "      <td>...</td>\n",
       "    </tr>\n",
       "    <tr>\n",
       "      <th>32169</th>\n",
       "      <td>38.0</td>\n",
       "      <td>92.0</td>\n",
       "      <td>97.0</td>\n",
       "      <td>151.0</td>\n",
       "      <td>98.0</td>\n",
       "      <td>58.0</td>\n",
       "      <td>20.677961</td>\n",
       "      <td>59.9</td>\n",
       "      <td>54.0</td>\n",
       "      <td>100.0</td>\n",
       "      <td>124.0</td>\n",
       "    </tr>\n",
       "    <tr>\n",
       "      <th>60786</th>\n",
       "      <td>59.0</td>\n",
       "      <td>93.0</td>\n",
       "      <td>80.0</td>\n",
       "      <td>132.0</td>\n",
       "      <td>56.0</td>\n",
       "      <td>23.0</td>\n",
       "      <td>41.038233</td>\n",
       "      <td>108.5</td>\n",
       "      <td>66.0</td>\n",
       "      <td>113.0</td>\n",
       "      <td>347.0</td>\n",
       "    </tr>\n",
       "    <tr>\n",
       "      <th>64166</th>\n",
       "      <td>60.0</td>\n",
       "      <td>95.0</td>\n",
       "      <td>119.0</td>\n",
       "      <td>164.0</td>\n",
       "      <td>125.0</td>\n",
       "      <td>68.0</td>\n",
       "      <td>47.304602</td>\n",
       "      <td>161.9</td>\n",
       "      <td>46.0</td>\n",
       "      <td>98.0</td>\n",
       "      <td>154.0</td>\n",
       "    </tr>\n",
       "    <tr>\n",
       "      <th>27758</th>\n",
       "      <td>60.0</td>\n",
       "      <td>66.0</td>\n",
       "      <td>103.0</td>\n",
       "      <td>129.0</td>\n",
       "      <td>88.0</td>\n",
       "      <td>62.0</td>\n",
       "      <td>32.075913</td>\n",
       "      <td>96.0</td>\n",
       "      <td>69.0</td>\n",
       "      <td>114.0</td>\n",
       "      <td>114.0</td>\n",
       "    </tr>\n",
       "    <tr>\n",
       "      <th>68255</th>\n",
       "      <td>50.0</td>\n",
       "      <td>82.0</td>\n",
       "      <td>102.0</td>\n",
       "      <td>102.0</td>\n",
       "      <td>51.0</td>\n",
       "      <td>51.0</td>\n",
       "      <td>24.993701</td>\n",
       "      <td>62.0</td>\n",
       "      <td>34.0</td>\n",
       "      <td>76.0</td>\n",
       "      <td>225.0</td>\n",
       "    </tr>\n",
       "  </tbody>\n",
       "</table>\n",
       "<p>7822 rows × 11 columns</p>\n",
       "</div>"
      ],
      "text/plain": [
       "       d1_heartrate_min  d1_heartrate_max  d1_sysbp_min  d1_sysbp_max  \\\n",
       "77708              71.0             109.0         130.0         188.0   \n",
       "5192               72.0              89.0          79.0         133.0   \n",
       "50057              60.0             107.0          93.0         155.0   \n",
       "73349              61.0              97.0         121.0         144.0   \n",
       "21440             101.0             121.0         121.0         167.0   \n",
       "...                 ...               ...           ...           ...   \n",
       "32169              38.0              92.0          97.0         151.0   \n",
       "60786              59.0              93.0          80.0         132.0   \n",
       "64166              60.0              95.0         119.0         164.0   \n",
       "27758              60.0              66.0         103.0         129.0   \n",
       "68255              50.0              82.0         102.0         102.0   \n",
       "\n",
       "       d1_diasbp_max  d1_diasbp_min        bmi  weight   age  d1_glucose_min  \\\n",
       "77708          113.0           59.0  27.089947    67.2  64.0           152.0   \n",
       "5192            81.0           37.0  28.755829    83.3  76.0            82.0   \n",
       "50057           93.0           54.0  35.274872   108.4  52.0           118.0   \n",
       "73349           72.0           67.0  39.728079   132.9  28.0           126.0   \n",
       "21440          120.0           88.0  22.714002    54.5  30.0            82.0   \n",
       "...              ...            ...        ...     ...   ...             ...   \n",
       "32169           98.0           58.0  20.677961    59.9  54.0           100.0   \n",
       "60786           56.0           23.0  41.038233   108.5  66.0           113.0   \n",
       "64166          125.0           68.0  47.304602   161.9  46.0            98.0   \n",
       "27758           88.0           62.0  32.075913    96.0  69.0           114.0   \n",
       "68255           51.0           51.0  24.993701    62.0  34.0            76.0   \n",
       "\n",
       "       d1_glucose_max  \n",
       "77708           272.0  \n",
       "5192             96.0  \n",
       "50057           178.0  \n",
       "73349           126.0  \n",
       "21440           404.0  \n",
       "...               ...  \n",
       "32169           124.0  \n",
       "60786           347.0  \n",
       "64166           154.0  \n",
       "27758           114.0  \n",
       "68255           225.0  \n",
       "\n",
       "[7822 rows x 11 columns]"
      ]
     },
     "execution_count": 20,
     "metadata": {},
     "output_type": "execute_result"
    }
   ],
   "source": [
    "df3"
   ]
  },
  {
   "cell_type": "code",
   "execution_count": 21,
   "metadata": {},
   "outputs": [
    {
     "data": {
      "text/plain": [
       "Index(['d1_heartrate_min', 'd1_heartrate_max', 'd1_sysbp_min', 'd1_sysbp_max',\n",
       "       'd1_diasbp_max', 'd1_diasbp_min', 'bmi', 'weight', 'age',\n",
       "       'd1_glucose_min', 'd1_glucose_max'],\n",
       "      dtype='object')"
      ]
     },
     "execution_count": 21,
     "metadata": {},
     "output_type": "execute_result"
    }
   ],
   "source": [
    "X.columns"
   ]
  },
  {
   "cell_type": "code",
   "execution_count": 22,
   "metadata": {},
   "outputs": [],
   "source": [
    "X_train, X_test, y_train, y_test = train_test_split(X, y, random_state=1)\n",
    "scaler = StandardScaler().fit(X_train)\n",
    "X_train_scaled = scaler.transform(X_train)\n",
    "X_test_scaled = scaler.transform(X_test)"
   ]
  },
  {
   "cell_type": "code",
   "execution_count": 23,
   "metadata": {},
   "outputs": [],
   "source": [
    "from sklearn import tree"
   ]
  },
  {
   "cell_type": "code",
   "execution_count": 24,
   "metadata": {},
   "outputs": [
    {
     "data": {
      "text/plain": [
       "1.0"
      ]
     },
     "execution_count": 24,
     "metadata": {},
     "output_type": "execute_result"
    }
   ],
   "source": [
    "tree_clf = tree.DecisionTreeClassifier()\n",
    "tree_clf = tree_clf.fit(X, y)\n",
    "tree_clf.score(X, y)"
   ]
  },
  {
   "cell_type": "code",
   "execution_count": 25,
   "metadata": {},
   "outputs": [],
   "source": [
    "fn = X.columns"
   ]
  },
  {
   "cell_type": "code",
   "execution_count": 26,
   "metadata": {},
   "outputs": [
    {
     "data": {
      "image/svg+xml": "<?xml version=\"1.0\" encoding=\"UTF-8\" standalone=\"no\"?>\n<!DOCTYPE svg PUBLIC \"-//W3C//DTD SVG 1.1//EN\"\n \"http://www.w3.org/Graphics/SVG/1.1/DTD/svg11.dtd\">\n<!-- Generated by graphviz version 2.50.0 (0)\n -->\n<!-- Title: Tree Pages: 1 -->\n<svg width=\"2130pt\" height=\"564pt\"\n viewBox=\"0.00 0.00 2130.00 564.00\" xmlns=\"http://www.w3.org/2000/svg\" xmlns:xlink=\"http://www.w3.org/1999/xlink\">\n<g id=\"graph0\" class=\"graph\" transform=\"scale(1 1) rotate(0) translate(4 560)\">\n<title>Tree</title>\n<polygon fill=\"white\" stroke=\"transparent\" points=\"-4,4 -4,-560 2126,-560 2126,4 -4,4\"/>\n<!-- 0 -->\n<g id=\"node1\" class=\"node\">\n<title>0</title>\n<path fill=\"#4ba6e7\" stroke=\"black\" d=\"M744,-556C744,-556 613,-556 613,-556 607,-556 601,-550 601,-544 601,-544 601,-500 601,-500 601,-494 607,-488 613,-488 613,-488 744,-488 744,-488 750,-488 756,-494 756,-500 756,-500 756,-544 756,-544 756,-550 750,-556 744,-556\"/>\n<text text-anchor=\"start\" x=\"609\" y=\"-540.8\" font-family=\"Helvetica,sans-Serif\" font-size=\"14.00\">d1_sysbp_min ≤ 68.5</text>\n<text text-anchor=\"start\" x=\"643\" y=\"-525.8\" font-family=\"Helvetica,sans-Serif\" font-size=\"14.00\">gini = 0.153</text>\n<text text-anchor=\"start\" x=\"630\" y=\"-510.8\" font-family=\"Helvetica,sans-Serif\" font-size=\"14.00\">samples = 7822</text>\n<text text-anchor=\"start\" x=\"620.5\" y=\"-495.8\" font-family=\"Helvetica,sans-Serif\" font-size=\"14.00\">value = [652, 7170]</text>\n</g>\n<!-- 1 -->\n<g id=\"node2\" class=\"node\">\n<title>1</title>\n<path fill=\"#85c2ef\" stroke=\"black\" d=\"M504.5,-452C504.5,-452 354.5,-452 354.5,-452 348.5,-452 342.5,-446 342.5,-440 342.5,-440 342.5,-396 342.5,-396 342.5,-390 348.5,-384 354.5,-384 354.5,-384 504.5,-384 504.5,-384 510.5,-384 516.5,-390 516.5,-396 516.5,-396 516.5,-440 516.5,-440 516.5,-446 510.5,-452 504.5,-452\"/>\n<text text-anchor=\"start\" x=\"350.5\" y=\"-436.8\" font-family=\"Helvetica,sans-Serif\" font-size=\"14.00\">d1_heartrate_min ≤ 32.5</text>\n<text text-anchor=\"start\" x=\"401.5\" y=\"-421.8\" font-family=\"Helvetica,sans-Serif\" font-size=\"14.00\">gini = 0.4</text>\n<text text-anchor=\"start\" x=\"384.5\" y=\"-406.8\" font-family=\"Helvetica,sans-Serif\" font-size=\"14.00\">samples = 536</text>\n<text text-anchor=\"start\" x=\"375\" y=\"-391.8\" font-family=\"Helvetica,sans-Serif\" font-size=\"14.00\">value = [148, 388]</text>\n</g>\n<!-- 0&#45;&gt;1 -->\n<g id=\"edge1\" class=\"edge\">\n<title>0&#45;&gt;1</title>\n<path fill=\"none\" stroke=\"black\" d=\"M600.74,-489.15C574.95,-478.58 546.04,-466.74 519.42,-455.83\"/>\n<polygon fill=\"black\" stroke=\"black\" points=\"520.69,-452.57 510.11,-452.02 518.04,-459.05 520.69,-452.57\"/>\n<text text-anchor=\"middle\" x=\"519.77\" y=\"-471.38\" font-family=\"Helvetica,sans-Serif\" font-size=\"14.00\">True</text>\n</g>\n<!-- 196 -->\n<g id=\"node21\" class=\"node\">\n<title>196</title>\n<path fill=\"#48a4e7\" stroke=\"black\" d=\"M1189,-452C1189,-452 1058,-452 1058,-452 1052,-452 1046,-446 1046,-440 1046,-440 1046,-396 1046,-396 1046,-390 1052,-384 1058,-384 1058,-384 1189,-384 1189,-384 1195,-384 1201,-390 1201,-396 1201,-396 1201,-440 1201,-440 1201,-446 1195,-452 1189,-452\"/>\n<text text-anchor=\"start\" x=\"1054\" y=\"-436.8\" font-family=\"Helvetica,sans-Serif\" font-size=\"14.00\">d1_sysbp_min ≤ 87.5</text>\n<text text-anchor=\"start\" x=\"1088\" y=\"-421.8\" font-family=\"Helvetica,sans-Serif\" font-size=\"14.00\">gini = 0.129</text>\n<text text-anchor=\"start\" x=\"1075\" y=\"-406.8\" font-family=\"Helvetica,sans-Serif\" font-size=\"14.00\">samples = 7286</text>\n<text text-anchor=\"start\" x=\"1065.5\" y=\"-391.8\" font-family=\"Helvetica,sans-Serif\" font-size=\"14.00\">value = [504, 6782]</text>\n</g>\n<!-- 0&#45;&gt;196 -->\n<g id=\"edge20\" class=\"edge\">\n<title>0&#45;&gt;196</title>\n<path fill=\"none\" stroke=\"black\" d=\"M756.01,-503.23C833.98,-485.36 954.02,-457.85 1035.52,-439.17\"/>\n<polygon fill=\"black\" stroke=\"black\" points=\"1036.79,-442.47 1045.76,-436.82 1035.23,-435.64 1036.79,-442.47\"/>\n<text text-anchor=\"middle\" x=\"1032.48\" y=\"-454.3\" font-family=\"Helvetica,sans-Serif\" font-size=\"14.00\">False</text>\n</g>\n<!-- 2 -->\n<g id=\"node3\" class=\"node\">\n<title>2</title>\n<path fill=\"#e68742\" stroke=\"black\" d=\"M237.5,-348C237.5,-348 91.5,-348 91.5,-348 85.5,-348 79.5,-342 79.5,-336 79.5,-336 79.5,-292 79.5,-292 79.5,-286 85.5,-280 91.5,-280 91.5,-280 237.5,-280 237.5,-280 243.5,-280 249.5,-286 249.5,-292 249.5,-292 249.5,-336 249.5,-336 249.5,-342 243.5,-348 237.5,-348\"/>\n<text text-anchor=\"start\" x=\"87.5\" y=\"-332.8\" font-family=\"Helvetica,sans-Serif\" font-size=\"14.00\">d1_glucose_max ≤ 89.5</text>\n<text text-anchor=\"start\" x=\"129\" y=\"-317.8\" font-family=\"Helvetica,sans-Serif\" font-size=\"14.00\">gini = 0.087</text>\n<text text-anchor=\"start\" x=\"123.5\" y=\"-302.8\" font-family=\"Helvetica,sans-Serif\" font-size=\"14.00\">samples = 22</text>\n<text text-anchor=\"start\" x=\"121.5\" y=\"-287.8\" font-family=\"Helvetica,sans-Serif\" font-size=\"14.00\">value = [21, 1]</text>\n</g>\n<!-- 1&#45;&gt;2 -->\n<g id=\"edge2\" class=\"edge\">\n<title>1&#45;&gt;2</title>\n<path fill=\"none\" stroke=\"black\" d=\"M343.46,-383.88C316.56,-373.53 286.73,-362.05 259.26,-351.47\"/>\n<polygon fill=\"black\" stroke=\"black\" points=\"260.24,-348.1 249.65,-347.78 257.73,-354.63 260.24,-348.1\"/>\n</g>\n<!-- 5 -->\n<g id=\"node6\" class=\"node\">\n<title>5</title>\n<path fill=\"#7abdee\" stroke=\"black\" d=\"M497.5,-348C497.5,-348 361.5,-348 361.5,-348 355.5,-348 349.5,-342 349.5,-336 349.5,-336 349.5,-292 349.5,-292 349.5,-286 355.5,-280 361.5,-280 361.5,-280 497.5,-280 497.5,-280 503.5,-280 509.5,-286 509.5,-292 509.5,-292 509.5,-336 509.5,-336 509.5,-342 503.5,-348 497.5,-348\"/>\n<text text-anchor=\"start\" x=\"357.5\" y=\"-332.8\" font-family=\"Helvetica,sans-Serif\" font-size=\"14.00\">d1_diasbp_min ≤ 23.5</text>\n<text text-anchor=\"start\" x=\"394\" y=\"-317.8\" font-family=\"Helvetica,sans-Serif\" font-size=\"14.00\">gini = 0.372</text>\n<text text-anchor=\"start\" x=\"384.5\" y=\"-302.8\" font-family=\"Helvetica,sans-Serif\" font-size=\"14.00\">samples = 514</text>\n<text text-anchor=\"start\" x=\"375\" y=\"-287.8\" font-family=\"Helvetica,sans-Serif\" font-size=\"14.00\">value = [127, 387]</text>\n</g>\n<!-- 1&#45;&gt;5 -->\n<g id=\"edge5\" class=\"edge\">\n<title>1&#45;&gt;5</title>\n<path fill=\"none\" stroke=\"black\" d=\"M429.5,-383.88C429.5,-375.78 429.5,-366.98 429.5,-358.47\"/>\n<polygon fill=\"black\" stroke=\"black\" points=\"433,-358.3 429.5,-348.3 426,-358.3 433,-358.3\"/>\n</g>\n<!-- 3 -->\n<g id=\"node4\" class=\"node\">\n<title>3</title>\n<path fill=\"#399de5\" stroke=\"black\" d=\"M83,-236.5C83,-236.5 12,-236.5 12,-236.5 6,-236.5 0,-230.5 0,-224.5 0,-224.5 0,-195.5 0,-195.5 0,-189.5 6,-183.5 12,-183.5 12,-183.5 83,-183.5 83,-183.5 89,-183.5 95,-189.5 95,-195.5 95,-195.5 95,-224.5 95,-224.5 95,-230.5 89,-236.5 83,-236.5\"/>\n<text text-anchor=\"start\" x=\"19.5\" y=\"-221.3\" font-family=\"Helvetica,sans-Serif\" font-size=\"14.00\">gini = 0.0</text>\n<text text-anchor=\"start\" x=\"10\" y=\"-206.3\" font-family=\"Helvetica,sans-Serif\" font-size=\"14.00\">samples = 1</text>\n<text text-anchor=\"start\" x=\"8\" y=\"-191.3\" font-family=\"Helvetica,sans-Serif\" font-size=\"14.00\">value = [0, 1]</text>\n</g>\n<!-- 2&#45;&gt;3 -->\n<g id=\"edge3\" class=\"edge\">\n<title>2&#45;&gt;3</title>\n<path fill=\"none\" stroke=\"black\" d=\"M126.51,-279.88C113.02,-268.12 97.85,-254.89 84.44,-243.2\"/>\n<polygon fill=\"black\" stroke=\"black\" points=\"86.61,-240.45 76.77,-236.52 82.01,-245.73 86.61,-240.45\"/>\n</g>\n<!-- 4 -->\n<g id=\"node5\" class=\"node\">\n<title>4</title>\n<path fill=\"#e58139\" stroke=\"black\" d=\"M203.5,-236.5C203.5,-236.5 125.5,-236.5 125.5,-236.5 119.5,-236.5 113.5,-230.5 113.5,-224.5 113.5,-224.5 113.5,-195.5 113.5,-195.5 113.5,-189.5 119.5,-183.5 125.5,-183.5 125.5,-183.5 203.5,-183.5 203.5,-183.5 209.5,-183.5 215.5,-189.5 215.5,-195.5 215.5,-195.5 215.5,-224.5 215.5,-224.5 215.5,-230.5 209.5,-236.5 203.5,-236.5\"/>\n<text text-anchor=\"start\" x=\"136.5\" y=\"-221.3\" font-family=\"Helvetica,sans-Serif\" font-size=\"14.00\">gini = 0.0</text>\n<text text-anchor=\"start\" x=\"123.5\" y=\"-206.3\" font-family=\"Helvetica,sans-Serif\" font-size=\"14.00\">samples = 21</text>\n<text text-anchor=\"start\" x=\"121.5\" y=\"-191.3\" font-family=\"Helvetica,sans-Serif\" font-size=\"14.00\">value = [21, 0]</text>\n</g>\n<!-- 2&#45;&gt;4 -->\n<g id=\"edge4\" class=\"edge\">\n<title>2&#45;&gt;4</title>\n<path fill=\"none\" stroke=\"black\" d=\"M164.5,-279.88C164.5,-269.33 164.5,-257.6 164.5,-246.85\"/>\n<polygon fill=\"black\" stroke=\"black\" points=\"168,-246.52 164.5,-236.52 161,-246.52 168,-246.52\"/>\n</g>\n<!-- 6 -->\n<g id=\"node7\" class=\"node\">\n<title>6</title>\n<path fill=\"#cbe5f8\" stroke=\"black\" d=\"M407,-244C407,-244 246,-244 246,-244 240,-244 234,-238 234,-232 234,-232 234,-188 234,-188 234,-182 240,-176 246,-176 246,-176 407,-176 407,-176 413,-176 419,-182 419,-188 419,-188 419,-232 419,-232 419,-238 413,-244 407,-244\"/>\n<text text-anchor=\"start\" x=\"242\" y=\"-228.8\" font-family=\"Helvetica,sans-Serif\" font-size=\"14.00\">d1_heartrate_max ≤ 153.0</text>\n<text text-anchor=\"start\" x=\"291\" y=\"-213.8\" font-family=\"Helvetica,sans-Serif\" font-size=\"14.00\">gini = 0.489</text>\n<text text-anchor=\"start\" x=\"285.5\" y=\"-198.8\" font-family=\"Helvetica,sans-Serif\" font-size=\"14.00\">samples = 80</text>\n<text text-anchor=\"start\" x=\"279.5\" y=\"-183.8\" font-family=\"Helvetica,sans-Serif\" font-size=\"14.00\">value = [34, 46]</text>\n</g>\n<!-- 5&#45;&gt;6 -->\n<g id=\"edge6\" class=\"edge\">\n<title>5&#45;&gt;6</title>\n<path fill=\"none\" stroke=\"black\" d=\"M396.06,-279.88C386.88,-270.8 376.83,-260.85 367.3,-251.4\"/>\n<polygon fill=\"black\" stroke=\"black\" points=\"369.69,-248.85 360.13,-244.3 364.77,-253.82 369.69,-248.85\"/>\n</g>\n<!-- 43 -->\n<g id=\"node14\" class=\"node\">\n<title>43</title>\n<path fill=\"#6fb8ec\" stroke=\"black\" d=\"M558,-244C558,-244 465,-244 465,-244 459,-244 453,-238 453,-232 453,-232 453,-188 453,-188 453,-182 459,-176 465,-176 465,-176 558,-176 558,-176 564,-176 570,-182 570,-188 570,-188 570,-232 570,-232 570,-238 564,-244 558,-244\"/>\n<text text-anchor=\"start\" x=\"474.5\" y=\"-228.8\" font-family=\"Helvetica,sans-Serif\" font-size=\"14.00\">age ≤ 78.5</text>\n<text text-anchor=\"start\" x=\"476\" y=\"-213.8\" font-family=\"Helvetica,sans-Serif\" font-size=\"14.00\">gini = 0.337</text>\n<text text-anchor=\"start\" x=\"466.5\" y=\"-198.8\" font-family=\"Helvetica,sans-Serif\" font-size=\"14.00\">samples = 434</text>\n<text text-anchor=\"start\" x=\"461\" y=\"-183.8\" font-family=\"Helvetica,sans-Serif\" font-size=\"14.00\">value = [93, 341]</text>\n</g>\n<!-- 5&#45;&gt;43 -->\n<g id=\"edge13\" class=\"edge\">\n<title>5&#45;&gt;43</title>\n<path fill=\"none\" stroke=\"black\" d=\"M456.12,-279.88C463.21,-271.07 470.96,-261.43 478.35,-252.24\"/>\n<polygon fill=\"black\" stroke=\"black\" points=\"481.19,-254.29 484.73,-244.3 475.74,-249.9 481.19,-254.29\"/>\n</g>\n<!-- 7 -->\n<g id=\"node8\" class=\"node\">\n<title>7</title>\n<path fill=\"#b0d8f5\" stroke=\"black\" d=\"M187,-140C187,-140 56,-140 56,-140 50,-140 44,-134 44,-128 44,-128 44,-84 44,-84 44,-78 50,-72 56,-72 56,-72 187,-72 187,-72 193,-72 199,-78 199,-84 199,-84 199,-128 199,-128 199,-134 193,-140 187,-140\"/>\n<text text-anchor=\"start\" x=\"52\" y=\"-124.8\" font-family=\"Helvetica,sans-Serif\" font-size=\"14.00\">d1_sysbp_min ≤ 46.0</text>\n<text text-anchor=\"start\" x=\"86\" y=\"-109.8\" font-family=\"Helvetica,sans-Serif\" font-size=\"14.00\">gini = 0.469</text>\n<text text-anchor=\"start\" x=\"80.5\" y=\"-94.8\" font-family=\"Helvetica,sans-Serif\" font-size=\"14.00\">samples = 72</text>\n<text text-anchor=\"start\" x=\"74.5\" y=\"-79.8\" font-family=\"Helvetica,sans-Serif\" font-size=\"14.00\">value = [27, 45]</text>\n</g>\n<!-- 6&#45;&gt;7 -->\n<g id=\"edge7\" class=\"edge\">\n<title>6&#45;&gt;7</title>\n<path fill=\"none\" stroke=\"black\" d=\"M259.94,-175.88C239.88,-165.9 217.71,-154.87 197.11,-144.62\"/>\n<polygon fill=\"black\" stroke=\"black\" points=\"198.59,-141.45 188.07,-140.12 195.47,-147.71 198.59,-141.45\"/>\n</g>\n<!-- 40 -->\n<g id=\"node11\" class=\"node\">\n<title>40</title>\n<path fill=\"#e99355\" stroke=\"black\" d=\"M390,-140C390,-140 229,-140 229,-140 223,-140 217,-134 217,-128 217,-128 217,-84 217,-84 217,-78 223,-72 229,-72 229,-72 390,-72 390,-72 396,-72 402,-78 402,-84 402,-84 402,-128 402,-128 402,-134 396,-140 390,-140\"/>\n<text text-anchor=\"start\" x=\"225\" y=\"-124.8\" font-family=\"Helvetica,sans-Serif\" font-size=\"14.00\">d1_heartrate_max ≤ 175.5</text>\n<text text-anchor=\"start\" x=\"274\" y=\"-109.8\" font-family=\"Helvetica,sans-Serif\" font-size=\"14.00\">gini = 0.219</text>\n<text text-anchor=\"start\" x=\"272\" y=\"-94.8\" font-family=\"Helvetica,sans-Serif\" font-size=\"14.00\">samples = 8</text>\n<text text-anchor=\"start\" x=\"270\" y=\"-79.8\" font-family=\"Helvetica,sans-Serif\" font-size=\"14.00\">value = [7, 1]</text>\n</g>\n<!-- 6&#45;&gt;40 -->\n<g id=\"edge10\" class=\"edge\">\n<title>6&#45;&gt;40</title>\n<path fill=\"none\" stroke=\"black\" d=\"M320.98,-175.88C319.61,-167.69 318.13,-158.79 316.7,-150.19\"/>\n<polygon fill=\"black\" stroke=\"black\" points=\"320.15,-149.59 315.05,-140.3 313.24,-150.74 320.15,-149.59\"/>\n</g>\n<!-- 8 -->\n<g id=\"node9\" class=\"node\">\n<title>8</title>\n<path fill=\"#c0c0c0\" stroke=\"black\" d=\"M100.5,-36C100.5,-36 70.5,-36 70.5,-36 64.5,-36 58.5,-30 58.5,-24 58.5,-24 58.5,-12 58.5,-12 58.5,-6 64.5,0 70.5,0 70.5,0 100.5,0 100.5,0 106.5,0 112.5,-6 112.5,-12 112.5,-12 112.5,-24 112.5,-24 112.5,-30 106.5,-36 100.5,-36\"/>\n<text text-anchor=\"middle\" x=\"85.5\" y=\"-14.3\" font-family=\"Helvetica,sans-Serif\" font-size=\"14.00\">(...)</text>\n</g>\n<!-- 7&#45;&gt;8 -->\n<g id=\"edge8\" class=\"edge\">\n<title>7&#45;&gt;8</title>\n<path fill=\"none\" stroke=\"black\" d=\"M107.68,-72C104.04,-63.28 100.14,-53.98 96.66,-45.65\"/>\n<polygon fill=\"black\" stroke=\"black\" points=\"99.88,-44.28 92.79,-36.4 93.42,-46.98 99.88,-44.28\"/>\n</g>\n<!-- 19 -->\n<g id=\"node10\" class=\"node\">\n<title>19</title>\n<path fill=\"#c0c0c0\" stroke=\"black\" d=\"M172.5,-36C172.5,-36 142.5,-36 142.5,-36 136.5,-36 130.5,-30 130.5,-24 130.5,-24 130.5,-12 130.5,-12 130.5,-6 136.5,0 142.5,0 142.5,0 172.5,0 172.5,0 178.5,0 184.5,-6 184.5,-12 184.5,-12 184.5,-24 184.5,-24 184.5,-30 178.5,-36 172.5,-36\"/>\n<text text-anchor=\"middle\" x=\"157.5\" y=\"-14.3\" font-family=\"Helvetica,sans-Serif\" font-size=\"14.00\">(...)</text>\n</g>\n<!-- 7&#45;&gt;19 -->\n<g id=\"edge9\" class=\"edge\">\n<title>7&#45;&gt;19</title>\n<path fill=\"none\" stroke=\"black\" d=\"M135.32,-72C138.96,-63.28 142.86,-53.98 146.34,-45.65\"/>\n<polygon fill=\"black\" stroke=\"black\" points=\"149.58,-46.98 150.21,-36.4 143.12,-44.28 149.58,-46.98\"/>\n</g>\n<!-- 41 -->\n<g id=\"node12\" class=\"node\">\n<title>41</title>\n<path fill=\"#c0c0c0\" stroke=\"black\" d=\"M288.5,-36C288.5,-36 258.5,-36 258.5,-36 252.5,-36 246.5,-30 246.5,-24 246.5,-24 246.5,-12 246.5,-12 246.5,-6 252.5,0 258.5,0 258.5,0 288.5,0 288.5,0 294.5,0 300.5,-6 300.5,-12 300.5,-12 300.5,-24 300.5,-24 300.5,-30 294.5,-36 288.5,-36\"/>\n<text text-anchor=\"middle\" x=\"273.5\" y=\"-14.3\" font-family=\"Helvetica,sans-Serif\" font-size=\"14.00\">(...)</text>\n</g>\n<!-- 40&#45;&gt;41 -->\n<g id=\"edge11\" class=\"edge\">\n<title>40&#45;&gt;41</title>\n<path fill=\"none\" stroke=\"black\" d=\"M295.68,-72C292.04,-63.28 288.14,-53.98 284.66,-45.65\"/>\n<polygon fill=\"black\" stroke=\"black\" points=\"287.88,-44.28 280.79,-36.4 281.42,-46.98 287.88,-44.28\"/>\n</g>\n<!-- 42 -->\n<g id=\"node13\" class=\"node\">\n<title>42</title>\n<path fill=\"#c0c0c0\" stroke=\"black\" d=\"M360.5,-36C360.5,-36 330.5,-36 330.5,-36 324.5,-36 318.5,-30 318.5,-24 318.5,-24 318.5,-12 318.5,-12 318.5,-6 324.5,0 330.5,0 330.5,0 360.5,0 360.5,0 366.5,0 372.5,-6 372.5,-12 372.5,-12 372.5,-24 372.5,-24 372.5,-30 366.5,-36 360.5,-36\"/>\n<text text-anchor=\"middle\" x=\"345.5\" y=\"-14.3\" font-family=\"Helvetica,sans-Serif\" font-size=\"14.00\">(...)</text>\n</g>\n<!-- 40&#45;&gt;42 -->\n<g id=\"edge12\" class=\"edge\">\n<title>40&#45;&gt;42</title>\n<path fill=\"none\" stroke=\"black\" d=\"M323.32,-72C326.96,-63.28 330.86,-53.98 334.34,-45.65\"/>\n<polygon fill=\"black\" stroke=\"black\" points=\"337.58,-46.98 338.21,-36.4 331.12,-44.28 337.58,-46.98\"/>\n</g>\n<!-- 44 -->\n<g id=\"node15\" class=\"node\">\n<title>44</title>\n<path fill=\"#63b2ea\" stroke=\"black\" d=\"M590.5,-140C590.5,-140 432.5,-140 432.5,-140 426.5,-140 420.5,-134 420.5,-128 420.5,-128 420.5,-84 420.5,-84 420.5,-78 426.5,-72 432.5,-72 432.5,-72 590.5,-72 590.5,-72 596.5,-72 602.5,-78 602.5,-84 602.5,-84 602.5,-128 602.5,-128 602.5,-134 596.5,-140 590.5,-140\"/>\n<text text-anchor=\"start\" x=\"428.5\" y=\"-124.8\" font-family=\"Helvetica,sans-Serif\" font-size=\"14.00\">d1_heartrate_min ≤ 111.5</text>\n<text text-anchor=\"start\" x=\"476\" y=\"-109.8\" font-family=\"Helvetica,sans-Serif\" font-size=\"14.00\">gini = 0.287</text>\n<text text-anchor=\"start\" x=\"466.5\" y=\"-94.8\" font-family=\"Helvetica,sans-Serif\" font-size=\"14.00\">samples = 340</text>\n<text text-anchor=\"start\" x=\"461\" y=\"-79.8\" font-family=\"Helvetica,sans-Serif\" font-size=\"14.00\">value = [59, 281]</text>\n</g>\n<!-- 43&#45;&gt;44 -->\n<g id=\"edge14\" class=\"edge\">\n<title>43&#45;&gt;44</title>\n<path fill=\"none\" stroke=\"black\" d=\"M511.5,-175.88C511.5,-167.78 511.5,-158.98 511.5,-150.47\"/>\n<polygon fill=\"black\" stroke=\"black\" points=\"515,-150.3 511.5,-140.3 508,-150.3 515,-150.3\"/>\n</g>\n<!-- 147 -->\n<g id=\"node18\" class=\"node\">\n<title>147</title>\n<path fill=\"#a9d5f4\" stroke=\"black\" d=\"M782.5,-140C782.5,-140 632.5,-140 632.5,-140 626.5,-140 620.5,-134 620.5,-128 620.5,-128 620.5,-84 620.5,-84 620.5,-78 626.5,-72 632.5,-72 632.5,-72 782.5,-72 782.5,-72 788.5,-72 794.5,-78 794.5,-84 794.5,-84 794.5,-128 794.5,-128 794.5,-134 788.5,-140 782.5,-140\"/>\n<text text-anchor=\"start\" x=\"628.5\" y=\"-124.8\" font-family=\"Helvetica,sans-Serif\" font-size=\"14.00\">d1_heartrate_min ≤ 69.5</text>\n<text text-anchor=\"start\" x=\"672\" y=\"-109.8\" font-family=\"Helvetica,sans-Serif\" font-size=\"14.00\">gini = 0.462</text>\n<text text-anchor=\"start\" x=\"666.5\" y=\"-94.8\" font-family=\"Helvetica,sans-Serif\" font-size=\"14.00\">samples = 94</text>\n<text text-anchor=\"start\" x=\"660.5\" y=\"-79.8\" font-family=\"Helvetica,sans-Serif\" font-size=\"14.00\">value = [34, 60]</text>\n</g>\n<!-- 43&#45;&gt;147 -->\n<g id=\"edge17\" class=\"edge\">\n<title>43&#45;&gt;147</title>\n<path fill=\"none\" stroke=\"black\" d=\"M570.04,-178.53C590.37,-167.95 613.43,-155.96 634.76,-144.85\"/>\n<polygon fill=\"black\" stroke=\"black\" points=\"636.54,-147.88 643.79,-140.15 633.3,-141.67 636.54,-147.88\"/>\n</g>\n<!-- 45 -->\n<g id=\"node16\" class=\"node\">\n<title>45</title>\n<path fill=\"#c0c0c0\" stroke=\"black\" d=\"M490.5,-36C490.5,-36 460.5,-36 460.5,-36 454.5,-36 448.5,-30 448.5,-24 448.5,-24 448.5,-12 448.5,-12 448.5,-6 454.5,0 460.5,0 460.5,0 490.5,0 490.5,0 496.5,0 502.5,-6 502.5,-12 502.5,-12 502.5,-24 502.5,-24 502.5,-30 496.5,-36 490.5,-36\"/>\n<text text-anchor=\"middle\" x=\"475.5\" y=\"-14.3\" font-family=\"Helvetica,sans-Serif\" font-size=\"14.00\">(...)</text>\n</g>\n<!-- 44&#45;&gt;45 -->\n<g id=\"edge15\" class=\"edge\">\n<title>44&#45;&gt;45</title>\n<path fill=\"none\" stroke=\"black\" d=\"M497.68,-72C494.04,-63.28 490.14,-53.98 486.66,-45.65\"/>\n<polygon fill=\"black\" stroke=\"black\" points=\"489.88,-44.28 482.79,-36.4 483.42,-46.98 489.88,-44.28\"/>\n</g>\n<!-- 144 -->\n<g id=\"node17\" class=\"node\">\n<title>144</title>\n<path fill=\"#c0c0c0\" stroke=\"black\" d=\"M562.5,-36C562.5,-36 532.5,-36 532.5,-36 526.5,-36 520.5,-30 520.5,-24 520.5,-24 520.5,-12 520.5,-12 520.5,-6 526.5,0 532.5,0 532.5,0 562.5,0 562.5,0 568.5,0 574.5,-6 574.5,-12 574.5,-12 574.5,-24 574.5,-24 574.5,-30 568.5,-36 562.5,-36\"/>\n<text text-anchor=\"middle\" x=\"547.5\" y=\"-14.3\" font-family=\"Helvetica,sans-Serif\" font-size=\"14.00\">(...)</text>\n</g>\n<!-- 44&#45;&gt;144 -->\n<g id=\"edge16\" class=\"edge\">\n<title>44&#45;&gt;144</title>\n<path fill=\"none\" stroke=\"black\" d=\"M525.32,-72C528.96,-63.28 532.86,-53.98 536.34,-45.65\"/>\n<polygon fill=\"black\" stroke=\"black\" points=\"539.58,-46.98 540.21,-36.4 533.12,-44.28 539.58,-46.98\"/>\n</g>\n<!-- 148 -->\n<g id=\"node19\" class=\"node\">\n<title>148</title>\n<path fill=\"#c0c0c0\" stroke=\"black\" d=\"M686.5,-36C686.5,-36 656.5,-36 656.5,-36 650.5,-36 644.5,-30 644.5,-24 644.5,-24 644.5,-12 644.5,-12 644.5,-6 650.5,0 656.5,0 656.5,0 686.5,0 686.5,0 692.5,0 698.5,-6 698.5,-12 698.5,-12 698.5,-24 698.5,-24 698.5,-30 692.5,-36 686.5,-36\"/>\n<text text-anchor=\"middle\" x=\"671.5\" y=\"-14.3\" font-family=\"Helvetica,sans-Serif\" font-size=\"14.00\">(...)</text>\n</g>\n<!-- 147&#45;&gt;148 -->\n<g id=\"edge18\" class=\"edge\">\n<title>147&#45;&gt;148</title>\n<path fill=\"none\" stroke=\"black\" d=\"M693.68,-72C690.04,-63.28 686.14,-53.98 682.66,-45.65\"/>\n<polygon fill=\"black\" stroke=\"black\" points=\"685.88,-44.28 678.79,-36.4 679.42,-46.98 685.88,-44.28\"/>\n</g>\n<!-- 163 -->\n<g id=\"node20\" class=\"node\">\n<title>163</title>\n<path fill=\"#c0c0c0\" stroke=\"black\" d=\"M758.5,-36C758.5,-36 728.5,-36 728.5,-36 722.5,-36 716.5,-30 716.5,-24 716.5,-24 716.5,-12 716.5,-12 716.5,-6 722.5,0 728.5,0 728.5,0 758.5,0 758.5,0 764.5,0 770.5,-6 770.5,-12 770.5,-12 770.5,-24 770.5,-24 770.5,-30 764.5,-36 758.5,-36\"/>\n<text text-anchor=\"middle\" x=\"743.5\" y=\"-14.3\" font-family=\"Helvetica,sans-Serif\" font-size=\"14.00\">(...)</text>\n</g>\n<!-- 147&#45;&gt;163 -->\n<g id=\"edge19\" class=\"edge\">\n<title>147&#45;&gt;163</title>\n<path fill=\"none\" stroke=\"black\" d=\"M721.32,-72C724.96,-63.28 728.86,-53.98 732.34,-45.65\"/>\n<polygon fill=\"black\" stroke=\"black\" points=\"735.58,-46.98 736.21,-36.4 729.12,-44.28 735.58,-46.98\"/>\n</g>\n<!-- 197 -->\n<g id=\"node22\" class=\"node\">\n<title>197</title>\n<path fill=\"#54aae9\" stroke=\"black\" d=\"M1198.5,-348C1198.5,-348 1048.5,-348 1048.5,-348 1042.5,-348 1036.5,-342 1036.5,-336 1036.5,-336 1036.5,-292 1036.5,-292 1036.5,-286 1042.5,-280 1048.5,-280 1048.5,-280 1198.5,-280 1198.5,-280 1204.5,-280 1210.5,-286 1210.5,-292 1210.5,-292 1210.5,-336 1210.5,-336 1210.5,-342 1204.5,-348 1198.5,-348\"/>\n<text text-anchor=\"start\" x=\"1044.5\" y=\"-332.8\" font-family=\"Helvetica,sans-Serif\" font-size=\"14.00\">d1_heartrate_min ≤ 20.5</text>\n<text text-anchor=\"start\" x=\"1088\" y=\"-317.8\" font-family=\"Helvetica,sans-Serif\" font-size=\"14.00\">gini = 0.213</text>\n<text text-anchor=\"start\" x=\"1075\" y=\"-302.8\" font-family=\"Helvetica,sans-Serif\" font-size=\"14.00\">samples = 1999</text>\n<text text-anchor=\"start\" x=\"1065.5\" y=\"-287.8\" font-family=\"Helvetica,sans-Serif\" font-size=\"14.00\">value = [242, 1757]</text>\n</g>\n<!-- 196&#45;&gt;197 -->\n<g id=\"edge21\" class=\"edge\">\n<title>196&#45;&gt;197</title>\n<path fill=\"none\" stroke=\"black\" d=\"M1123.5,-383.88C1123.5,-375.78 1123.5,-366.98 1123.5,-358.47\"/>\n<polygon fill=\"black\" stroke=\"black\" points=\"1127,-358.3 1123.5,-348.3 1120,-358.3 1127,-358.3\"/>\n</g>\n<!-- 700 -->\n<g id=\"node35\" class=\"node\">\n<title>700</title>\n<path fill=\"#43a2e6\" stroke=\"black\" d=\"M1680.5,-348C1680.5,-348 1572.5,-348 1572.5,-348 1566.5,-348 1560.5,-342 1560.5,-336 1560.5,-336 1560.5,-292 1560.5,-292 1560.5,-286 1566.5,-280 1572.5,-280 1572.5,-280 1680.5,-280 1680.5,-280 1686.5,-280 1692.5,-286 1692.5,-292 1692.5,-292 1692.5,-336 1692.5,-336 1692.5,-342 1686.5,-348 1680.5,-348\"/>\n<text text-anchor=\"start\" x=\"1589.5\" y=\"-332.8\" font-family=\"Helvetica,sans-Serif\" font-size=\"14.00\">age ≤ 76.5</text>\n<text text-anchor=\"start\" x=\"1591\" y=\"-317.8\" font-family=\"Helvetica,sans-Serif\" font-size=\"14.00\">gini = 0.094</text>\n<text text-anchor=\"start\" x=\"1578\" y=\"-302.8\" font-family=\"Helvetica,sans-Serif\" font-size=\"14.00\">samples = 5287</text>\n<text text-anchor=\"start\" x=\"1568.5\" y=\"-287.8\" font-family=\"Helvetica,sans-Serif\" font-size=\"14.00\">value = [262, 5025]</text>\n</g>\n<!-- 196&#45;&gt;700 -->\n<g id=\"edge34\" class=\"edge\">\n<title>196&#45;&gt;700</title>\n<path fill=\"none\" stroke=\"black\" d=\"M1201.27,-401.23C1296.25,-381.97 1455.89,-349.6 1550.21,-330.47\"/>\n<polygon fill=\"black\" stroke=\"black\" points=\"1551.14,-333.85 1560.25,-328.43 1549.75,-326.99 1551.14,-333.85\"/>\n</g>\n<!-- 198 -->\n<g id=\"node23\" class=\"node\">\n<title>198</title>\n<path fill=\"#eeaf81\" stroke=\"black\" d=\"M1099,-244C1099,-244 956,-244 956,-244 950,-244 944,-238 944,-232 944,-232 944,-188 944,-188 944,-182 950,-176 956,-176 956,-176 1099,-176 1099,-176 1105,-176 1111,-182 1111,-188 1111,-188 1111,-232 1111,-232 1111,-238 1105,-244 1099,-244\"/>\n<text text-anchor=\"start\" x=\"952\" y=\"-228.8\" font-family=\"Helvetica,sans-Serif\" font-size=\"14.00\">d1_sysbp_max ≤ 209.5</text>\n<text text-anchor=\"start\" x=\"992\" y=\"-213.8\" font-family=\"Helvetica,sans-Serif\" font-size=\"14.00\">gini = 0.391</text>\n<text text-anchor=\"start\" x=\"986.5\" y=\"-198.8\" font-family=\"Helvetica,sans-Serif\" font-size=\"14.00\">samples = 15</text>\n<text text-anchor=\"start\" x=\"984.5\" y=\"-183.8\" font-family=\"Helvetica,sans-Serif\" font-size=\"14.00\">value = [11, 4]</text>\n</g>\n<!-- 197&#45;&gt;198 -->\n<g id=\"edge22\" class=\"edge\">\n<title>197&#45;&gt;198</title>\n<path fill=\"none\" stroke=\"black\" d=\"M1092.33,-279.88C1083.86,-270.89 1074.6,-261.04 1065.79,-251.68\"/>\n<polygon fill=\"black\" stroke=\"black\" points=\"1068.24,-249.18 1058.84,-244.3 1063.15,-253.98 1068.24,-249.18\"/>\n</g>\n<!-- 207 -->\n<g id=\"node28\" class=\"node\">\n<title>207</title>\n<path fill=\"#53aae8\" stroke=\"black\" d=\"M1299.5,-244C1299.5,-244 1141.5,-244 1141.5,-244 1135.5,-244 1129.5,-238 1129.5,-232 1129.5,-232 1129.5,-188 1129.5,-188 1129.5,-182 1135.5,-176 1141.5,-176 1141.5,-176 1299.5,-176 1299.5,-176 1305.5,-176 1311.5,-182 1311.5,-188 1311.5,-188 1311.5,-232 1311.5,-232 1311.5,-238 1305.5,-244 1299.5,-244\"/>\n<text text-anchor=\"start\" x=\"1137.5\" y=\"-228.8\" font-family=\"Helvetica,sans-Serif\" font-size=\"14.00\">d1_heartrate_min ≤ 104.5</text>\n<text text-anchor=\"start\" x=\"1185\" y=\"-213.8\" font-family=\"Helvetica,sans-Serif\" font-size=\"14.00\">gini = 0.206</text>\n<text text-anchor=\"start\" x=\"1172\" y=\"-198.8\" font-family=\"Helvetica,sans-Serif\" font-size=\"14.00\">samples = 1984</text>\n<text text-anchor=\"start\" x=\"1162.5\" y=\"-183.8\" font-family=\"Helvetica,sans-Serif\" font-size=\"14.00\">value = [231, 1753]</text>\n</g>\n<!-- 197&#45;&gt;207 -->\n<g id=\"edge27\" class=\"edge\">\n<title>197&#45;&gt;207</title>\n<path fill=\"none\" stroke=\"black\" d=\"M1154.99,-279.88C1163.55,-270.89 1172.91,-261.04 1181.82,-251.68\"/>\n<polygon fill=\"black\" stroke=\"black\" points=\"1184.48,-253.96 1188.83,-244.3 1179.41,-249.13 1184.48,-253.96\"/>\n</g>\n<!-- 199 -->\n<g id=\"node24\" class=\"node\">\n<title>199</title>\n<path fill=\"#ea985d\" stroke=\"black\" d=\"M968,-140C968,-140 825,-140 825,-140 819,-140 813,-134 813,-128 813,-128 813,-84 813,-84 813,-78 819,-72 825,-72 825,-72 968,-72 968,-72 974,-72 980,-78 980,-84 980,-84 980,-128 980,-128 980,-134 974,-140 968,-140\"/>\n<text text-anchor=\"start\" x=\"821\" y=\"-124.8\" font-family=\"Helvetica,sans-Serif\" font-size=\"14.00\">d1_glucose_min ≤ 95.5</text>\n<text text-anchor=\"start\" x=\"864.5\" y=\"-109.8\" font-family=\"Helvetica,sans-Serif\" font-size=\"14.00\">gini = 0.26</text>\n<text text-anchor=\"start\" x=\"855.5\" y=\"-94.8\" font-family=\"Helvetica,sans-Serif\" font-size=\"14.00\">samples = 13</text>\n<text text-anchor=\"start\" x=\"853.5\" y=\"-79.8\" font-family=\"Helvetica,sans-Serif\" font-size=\"14.00\">value = [11, 2]</text>\n</g>\n<!-- 198&#45;&gt;199 -->\n<g id=\"edge23\" class=\"edge\">\n<title>198&#45;&gt;199</title>\n<path fill=\"none\" stroke=\"black\" d=\"M984.97,-175.88C972.96,-166.53 959.76,-156.26 947.32,-146.57\"/>\n<polygon fill=\"black\" stroke=\"black\" points=\"949.31,-143.68 939.27,-140.3 945.01,-149.2 949.31,-143.68\"/>\n</g>\n<!-- 206 -->\n<g id=\"node27\" class=\"node\">\n<title>206</title>\n<path fill=\"#399de5\" stroke=\"black\" d=\"M1081,-132.5C1081,-132.5 1010,-132.5 1010,-132.5 1004,-132.5 998,-126.5 998,-120.5 998,-120.5 998,-91.5 998,-91.5 998,-85.5 1004,-79.5 1010,-79.5 1010,-79.5 1081,-79.5 1081,-79.5 1087,-79.5 1093,-85.5 1093,-91.5 1093,-91.5 1093,-120.5 1093,-120.5 1093,-126.5 1087,-132.5 1081,-132.5\"/>\n<text text-anchor=\"start\" x=\"1017.5\" y=\"-117.3\" font-family=\"Helvetica,sans-Serif\" font-size=\"14.00\">gini = 0.0</text>\n<text text-anchor=\"start\" x=\"1008\" y=\"-102.3\" font-family=\"Helvetica,sans-Serif\" font-size=\"14.00\">samples = 2</text>\n<text text-anchor=\"start\" x=\"1006\" y=\"-87.3\" font-family=\"Helvetica,sans-Serif\" font-size=\"14.00\">value = [0, 2]</text>\n</g>\n<!-- 198&#45;&gt;206 -->\n<g id=\"edge26\" class=\"edge\">\n<title>198&#45;&gt;206</title>\n<path fill=\"none\" stroke=\"black\" d=\"M1033.34,-175.88C1035.23,-165.22 1037.32,-153.35 1039.23,-142.52\"/>\n<polygon fill=\"black\" stroke=\"black\" points=\"1042.71,-142.98 1041,-132.52 1035.81,-141.76 1042.71,-142.98\"/>\n</g>\n<!-- 200 -->\n<g id=\"node25\" class=\"node\">\n<title>200</title>\n<path fill=\"#c0c0c0\" stroke=\"black\" d=\"M889.5,-36C889.5,-36 859.5,-36 859.5,-36 853.5,-36 847.5,-30 847.5,-24 847.5,-24 847.5,-12 847.5,-12 847.5,-6 853.5,0 859.5,0 859.5,0 889.5,0 889.5,0 895.5,0 901.5,-6 901.5,-12 901.5,-12 901.5,-24 901.5,-24 901.5,-30 895.5,-36 889.5,-36\"/>\n<text text-anchor=\"middle\" x=\"874.5\" y=\"-14.3\" font-family=\"Helvetica,sans-Serif\" font-size=\"14.00\">(...)</text>\n</g>\n<!-- 199&#45;&gt;200 -->\n<g id=\"edge24\" class=\"edge\">\n<title>199&#45;&gt;200</title>\n<path fill=\"none\" stroke=\"black\" d=\"M888.06,-72C885.88,-63.47 883.55,-54.39 881.46,-46.2\"/>\n<polygon fill=\"black\" stroke=\"black\" points=\"884.82,-45.22 878.95,-36.4 878.04,-46.96 884.82,-45.22\"/>\n</g>\n<!-- 201 -->\n<g id=\"node26\" class=\"node\">\n<title>201</title>\n<path fill=\"#c0c0c0\" stroke=\"black\" d=\"M961.5,-36C961.5,-36 931.5,-36 931.5,-36 925.5,-36 919.5,-30 919.5,-24 919.5,-24 919.5,-12 919.5,-12 919.5,-6 925.5,0 931.5,0 931.5,0 961.5,0 961.5,0 967.5,0 973.5,-6 973.5,-12 973.5,-12 973.5,-24 973.5,-24 973.5,-30 967.5,-36 961.5,-36\"/>\n<text text-anchor=\"middle\" x=\"946.5\" y=\"-14.3\" font-family=\"Helvetica,sans-Serif\" font-size=\"14.00\">(...)</text>\n</g>\n<!-- 199&#45;&gt;201 -->\n<g id=\"edge25\" class=\"edge\">\n<title>199&#45;&gt;201</title>\n<path fill=\"none\" stroke=\"black\" d=\"M915.69,-72C920.87,-63.09 926.4,-53.58 931.32,-45.11\"/>\n<polygon fill=\"black\" stroke=\"black\" points=\"934.38,-46.81 936.38,-36.4 928.33,-43.29 934.38,-46.81\"/>\n</g>\n<!-- 208 -->\n<g id=\"node29\" class=\"node\">\n<title>208</title>\n<path fill=\"#51a9e8\" stroke=\"black\" d=\"M1284,-140C1284,-140 1123,-140 1123,-140 1117,-140 1111,-134 1111,-128 1111,-128 1111,-84 1111,-84 1111,-78 1117,-72 1123,-72 1123,-72 1284,-72 1284,-72 1290,-72 1296,-78 1296,-84 1296,-84 1296,-128 1296,-128 1296,-134 1290,-140 1284,-140\"/>\n<text text-anchor=\"start\" x=\"1119\" y=\"-124.8\" font-family=\"Helvetica,sans-Serif\" font-size=\"14.00\">d1_heartrate_max ≤ 122.5</text>\n<text text-anchor=\"start\" x=\"1168\" y=\"-109.8\" font-family=\"Helvetica,sans-Serif\" font-size=\"14.00\">gini = 0.191</text>\n<text text-anchor=\"start\" x=\"1155\" y=\"-94.8\" font-family=\"Helvetica,sans-Serif\" font-size=\"14.00\">samples = 1918</text>\n<text text-anchor=\"start\" x=\"1145.5\" y=\"-79.8\" font-family=\"Helvetica,sans-Serif\" font-size=\"14.00\">value = [205, 1713]</text>\n</g>\n<!-- 207&#45;&gt;208 -->\n<g id=\"edge28\" class=\"edge\">\n<title>207&#45;&gt;208</title>\n<path fill=\"none\" stroke=\"black\" d=\"M1214.98,-175.88C1213.61,-167.69 1212.13,-158.79 1210.7,-150.19\"/>\n<polygon fill=\"black\" stroke=\"black\" points=\"1214.15,-149.59 1209.05,-140.3 1207.24,-150.74 1214.15,-149.59\"/>\n</g>\n<!-- 669 -->\n<g id=\"node32\" class=\"node\">\n<title>669</title>\n<path fill=\"#baddf6\" stroke=\"black\" d=\"M1412.5,-140C1412.5,-140 1326.5,-140 1326.5,-140 1320.5,-140 1314.5,-134 1314.5,-128 1314.5,-128 1314.5,-84 1314.5,-84 1314.5,-78 1320.5,-72 1326.5,-72 1326.5,-72 1412.5,-72 1412.5,-72 1418.5,-72 1424.5,-78 1424.5,-84 1424.5,-84 1424.5,-128 1424.5,-128 1424.5,-134 1418.5,-140 1412.5,-140\"/>\n<text text-anchor=\"start\" x=\"1328.5\" y=\"-124.8\" font-family=\"Helvetica,sans-Serif\" font-size=\"14.00\">bmi ≤ 27.43</text>\n<text text-anchor=\"start\" x=\"1334\" y=\"-109.8\" font-family=\"Helvetica,sans-Serif\" font-size=\"14.00\">gini = 0.478</text>\n<text text-anchor=\"start\" x=\"1328.5\" y=\"-94.8\" font-family=\"Helvetica,sans-Serif\" font-size=\"14.00\">samples = 66</text>\n<text text-anchor=\"start\" x=\"1322.5\" y=\"-79.8\" font-family=\"Helvetica,sans-Serif\" font-size=\"14.00\">value = [26, 40]</text>\n</g>\n<!-- 207&#45;&gt;669 -->\n<g id=\"edge31\" class=\"edge\">\n<title>207&#45;&gt;669</title>\n<path fill=\"none\" stroke=\"black\" d=\"M1268.88,-175.88C1282.87,-166.3 1298.27,-155.76 1312.73,-145.86\"/>\n<polygon fill=\"black\" stroke=\"black\" points=\"1314.84,-148.66 1321.11,-140.12 1310.88,-142.89 1314.84,-148.66\"/>\n</g>\n<!-- 209 -->\n<g id=\"node30\" class=\"node\">\n<title>209</title>\n<path fill=\"#c0c0c0\" stroke=\"black\" d=\"M1182.5,-36C1182.5,-36 1152.5,-36 1152.5,-36 1146.5,-36 1140.5,-30 1140.5,-24 1140.5,-24 1140.5,-12 1140.5,-12 1140.5,-6 1146.5,0 1152.5,0 1152.5,0 1182.5,0 1182.5,0 1188.5,0 1194.5,-6 1194.5,-12 1194.5,-12 1194.5,-24 1194.5,-24 1194.5,-30 1188.5,-36 1182.5,-36\"/>\n<text text-anchor=\"middle\" x=\"1167.5\" y=\"-14.3\" font-family=\"Helvetica,sans-Serif\" font-size=\"14.00\">(...)</text>\n</g>\n<!-- 208&#45;&gt;209 -->\n<g id=\"edge29\" class=\"edge\">\n<title>208&#45;&gt;209</title>\n<path fill=\"none\" stroke=\"black\" d=\"M1189.68,-72C1186.04,-63.28 1182.14,-53.98 1178.66,-45.65\"/>\n<polygon fill=\"black\" stroke=\"black\" points=\"1181.88,-44.28 1174.79,-36.4 1175.42,-46.98 1181.88,-44.28\"/>\n</g>\n<!-- 530 -->\n<g id=\"node31\" class=\"node\">\n<title>530</title>\n<path fill=\"#c0c0c0\" stroke=\"black\" d=\"M1254.5,-36C1254.5,-36 1224.5,-36 1224.5,-36 1218.5,-36 1212.5,-30 1212.5,-24 1212.5,-24 1212.5,-12 1212.5,-12 1212.5,-6 1218.5,0 1224.5,0 1224.5,0 1254.5,0 1254.5,0 1260.5,0 1266.5,-6 1266.5,-12 1266.5,-12 1266.5,-24 1266.5,-24 1266.5,-30 1260.5,-36 1254.5,-36\"/>\n<text text-anchor=\"middle\" x=\"1239.5\" y=\"-14.3\" font-family=\"Helvetica,sans-Serif\" font-size=\"14.00\">(...)</text>\n</g>\n<!-- 208&#45;&gt;530 -->\n<g id=\"edge30\" class=\"edge\">\n<title>208&#45;&gt;530</title>\n<path fill=\"none\" stroke=\"black\" d=\"M1217.32,-72C1220.96,-63.28 1224.86,-53.98 1228.34,-45.65\"/>\n<polygon fill=\"black\" stroke=\"black\" points=\"1231.58,-46.98 1232.21,-36.4 1225.12,-44.28 1231.58,-46.98\"/>\n</g>\n<!-- 670 -->\n<g id=\"node33\" class=\"node\">\n<title>670</title>\n<path fill=\"#c0c0c0\" stroke=\"black\" d=\"M1373.5,-36C1373.5,-36 1343.5,-36 1343.5,-36 1337.5,-36 1331.5,-30 1331.5,-24 1331.5,-24 1331.5,-12 1331.5,-12 1331.5,-6 1337.5,0 1343.5,0 1343.5,0 1373.5,0 1373.5,0 1379.5,0 1385.5,-6 1385.5,-12 1385.5,-12 1385.5,-24 1385.5,-24 1385.5,-30 1379.5,-36 1373.5,-36\"/>\n<text text-anchor=\"middle\" x=\"1358.5\" y=\"-14.3\" font-family=\"Helvetica,sans-Serif\" font-size=\"14.00\">(...)</text>\n</g>\n<!-- 669&#45;&gt;670 -->\n<g id=\"edge32\" class=\"edge\">\n<title>669&#45;&gt;670</title>\n<path fill=\"none\" stroke=\"black\" d=\"M1365.28,-72C1364.2,-63.56 1363.05,-54.59 1362.01,-46.47\"/>\n<polygon fill=\"black\" stroke=\"black\" points=\"1365.47,-45.88 1360.73,-36.4 1358.52,-46.77 1365.47,-45.88\"/>\n</g>\n<!-- 689 -->\n<g id=\"node34\" class=\"node\">\n<title>689</title>\n<path fill=\"#c0c0c0\" stroke=\"black\" d=\"M1445.5,-36C1445.5,-36 1415.5,-36 1415.5,-36 1409.5,-36 1403.5,-30 1403.5,-24 1403.5,-24 1403.5,-12 1403.5,-12 1403.5,-6 1409.5,0 1415.5,0 1415.5,0 1445.5,0 1445.5,0 1451.5,0 1457.5,-6 1457.5,-12 1457.5,-12 1457.5,-24 1457.5,-24 1457.5,-30 1451.5,-36 1445.5,-36\"/>\n<text text-anchor=\"middle\" x=\"1430.5\" y=\"-14.3\" font-family=\"Helvetica,sans-Serif\" font-size=\"14.00\">(...)</text>\n</g>\n<!-- 669&#45;&gt;689 -->\n<g id=\"edge33\" class=\"edge\">\n<title>669&#45;&gt;689</title>\n<path fill=\"none\" stroke=\"black\" d=\"M1392.91,-72C1399.36,-62.9 1406.26,-53.18 1412.36,-44.57\"/>\n<polygon fill=\"black\" stroke=\"black\" points=\"1415.23,-46.58 1418.16,-36.4 1409.52,-42.53 1415.23,-46.58\"/>\n</g>\n<!-- 701 -->\n<g id=\"node36\" class=\"node\">\n<title>701</title>\n<path fill=\"#40a1e6\" stroke=\"black\" d=\"M1707,-244C1707,-244 1546,-244 1546,-244 1540,-244 1534,-238 1534,-232 1534,-232 1534,-188 1534,-188 1534,-182 1540,-176 1546,-176 1546,-176 1707,-176 1707,-176 1713,-176 1719,-182 1719,-188 1719,-188 1719,-232 1719,-232 1719,-238 1713,-244 1707,-244\"/>\n<text text-anchor=\"start\" x=\"1542\" y=\"-228.8\" font-family=\"Helvetica,sans-Serif\" font-size=\"14.00\">d1_heartrate_max ≤ 141.5</text>\n<text text-anchor=\"start\" x=\"1591\" y=\"-213.8\" font-family=\"Helvetica,sans-Serif\" font-size=\"14.00\">gini = 0.069</text>\n<text text-anchor=\"start\" x=\"1578\" y=\"-198.8\" font-family=\"Helvetica,sans-Serif\" font-size=\"14.00\">samples = 4111</text>\n<text text-anchor=\"start\" x=\"1568.5\" y=\"-183.8\" font-family=\"Helvetica,sans-Serif\" font-size=\"14.00\">value = [148, 3963]</text>\n</g>\n<!-- 700&#45;&gt;701 -->\n<g id=\"edge35\" class=\"edge\">\n<title>700&#45;&gt;701</title>\n<path fill=\"none\" stroke=\"black\" d=\"M1626.5,-279.88C1626.5,-271.78 1626.5,-262.98 1626.5,-254.47\"/>\n<polygon fill=\"black\" stroke=\"black\" points=\"1630,-254.3 1626.5,-244.3 1623,-254.3 1630,-254.3\"/>\n</g>\n<!-- 1114 -->\n<g id=\"node43\" class=\"node\">\n<title>1114</title>\n<path fill=\"#4ea8e8\" stroke=\"black\" d=\"M2002,-244C2002,-244 1841,-244 1841,-244 1835,-244 1829,-238 1829,-232 1829,-232 1829,-188 1829,-188 1829,-182 1835,-176 1841,-176 1841,-176 2002,-176 2002,-176 2008,-176 2014,-182 2014,-188 2014,-188 2014,-232 2014,-232 2014,-238 2008,-244 2002,-244\"/>\n<text text-anchor=\"start\" x=\"1837\" y=\"-228.8\" font-family=\"Helvetica,sans-Serif\" font-size=\"14.00\">d1_heartrate_max ≤ 174.5</text>\n<text text-anchor=\"start\" x=\"1886\" y=\"-213.8\" font-family=\"Helvetica,sans-Serif\" font-size=\"14.00\">gini = 0.175</text>\n<text text-anchor=\"start\" x=\"1873\" y=\"-198.8\" font-family=\"Helvetica,sans-Serif\" font-size=\"14.00\">samples = 1176</text>\n<text text-anchor=\"start\" x=\"1863.5\" y=\"-183.8\" font-family=\"Helvetica,sans-Serif\" font-size=\"14.00\">value = [114, 1062]</text>\n</g>\n<!-- 700&#45;&gt;1114 -->\n<g id=\"edge42\" class=\"edge\">\n<title>700&#45;&gt;1114</title>\n<path fill=\"none\" stroke=\"black\" d=\"M1692.7,-290.11C1729.98,-277.22 1777.32,-260.85 1819.26,-246.35\"/>\n<polygon fill=\"black\" stroke=\"black\" points=\"1820.65,-249.58 1828.95,-243 1818.36,-242.96 1820.65,-249.58\"/>\n</g>\n<!-- 702 -->\n<g id=\"node37\" class=\"node\">\n<title>702</title>\n<path fill=\"#40a0e6\" stroke=\"black\" d=\"M1612.5,-140C1612.5,-140 1454.5,-140 1454.5,-140 1448.5,-140 1442.5,-134 1442.5,-128 1442.5,-128 1442.5,-84 1442.5,-84 1442.5,-78 1448.5,-72 1454.5,-72 1454.5,-72 1612.5,-72 1612.5,-72 1618.5,-72 1624.5,-78 1624.5,-84 1624.5,-84 1624.5,-128 1624.5,-128 1624.5,-134 1618.5,-140 1612.5,-140\"/>\n<text text-anchor=\"start\" x=\"1450.5\" y=\"-124.8\" font-family=\"Helvetica,sans-Serif\" font-size=\"14.00\">d1_heartrate_min ≤ 114.5</text>\n<text text-anchor=\"start\" x=\"1498\" y=\"-109.8\" font-family=\"Helvetica,sans-Serif\" font-size=\"14.00\">gini = 0.063</text>\n<text text-anchor=\"start\" x=\"1485\" y=\"-94.8\" font-family=\"Helvetica,sans-Serif\" font-size=\"14.00\">samples = 3930</text>\n<text text-anchor=\"start\" x=\"1475.5\" y=\"-79.8\" font-family=\"Helvetica,sans-Serif\" font-size=\"14.00\">value = [127, 3803]</text>\n</g>\n<!-- 701&#45;&gt;702 -->\n<g id=\"edge36\" class=\"edge\">\n<title>701&#45;&gt;702</title>\n<path fill=\"none\" stroke=\"black\" d=\"M1596.31,-175.88C1588.18,-166.98 1579.3,-157.24 1570.84,-147.96\"/>\n<polygon fill=\"black\" stroke=\"black\" points=\"1573.19,-145.33 1563.86,-140.3 1568.01,-150.05 1573.19,-145.33\"/>\n</g>\n<!-- 1065 -->\n<g id=\"node40\" class=\"node\">\n<title>1065</title>\n<path fill=\"#53aae8\" stroke=\"black\" d=\"M1804.5,-140C1804.5,-140 1654.5,-140 1654.5,-140 1648.5,-140 1642.5,-134 1642.5,-128 1642.5,-128 1642.5,-84 1642.5,-84 1642.5,-78 1648.5,-72 1654.5,-72 1654.5,-72 1804.5,-72 1804.5,-72 1810.5,-72 1816.5,-78 1816.5,-84 1816.5,-84 1816.5,-128 1816.5,-128 1816.5,-134 1810.5,-140 1804.5,-140\"/>\n<text text-anchor=\"start\" x=\"1650.5\" y=\"-124.8\" font-family=\"Helvetica,sans-Serif\" font-size=\"14.00\">d1_heartrate_min ≤ 47.0</text>\n<text text-anchor=\"start\" x=\"1694\" y=\"-109.8\" font-family=\"Helvetica,sans-Serif\" font-size=\"14.00\">gini = 0.205</text>\n<text text-anchor=\"start\" x=\"1684.5\" y=\"-94.8\" font-family=\"Helvetica,sans-Serif\" font-size=\"14.00\">samples = 181</text>\n<text text-anchor=\"start\" x=\"1679\" y=\"-79.8\" font-family=\"Helvetica,sans-Serif\" font-size=\"14.00\">value = [21, 160]</text>\n</g>\n<!-- 701&#45;&gt;1065 -->\n<g id=\"edge39\" class=\"edge\">\n<title>701&#45;&gt;1065</title>\n<path fill=\"none\" stroke=\"black\" d=\"M1659.94,-175.88C1669.12,-166.8 1679.17,-156.85 1688.7,-147.4\"/>\n<polygon fill=\"black\" stroke=\"black\" points=\"1691.23,-149.82 1695.87,-140.3 1686.31,-144.85 1691.23,-149.82\"/>\n</g>\n<!-- 703 -->\n<g id=\"node38\" class=\"node\">\n<title>703</title>\n<path fill=\"#c0c0c0\" stroke=\"black\" d=\"M1533.5,-36C1533.5,-36 1503.5,-36 1503.5,-36 1497.5,-36 1491.5,-30 1491.5,-24 1491.5,-24 1491.5,-12 1491.5,-12 1491.5,-6 1497.5,0 1503.5,0 1503.5,0 1533.5,0 1533.5,0 1539.5,0 1545.5,-6 1545.5,-12 1545.5,-12 1545.5,-24 1545.5,-24 1545.5,-30 1539.5,-36 1533.5,-36\"/>\n<text text-anchor=\"middle\" x=\"1518.5\" y=\"-14.3\" font-family=\"Helvetica,sans-Serif\" font-size=\"14.00\">(...)</text>\n</g>\n<!-- 702&#45;&gt;703 -->\n<g id=\"edge37\" class=\"edge\">\n<title>702&#45;&gt;703</title>\n<path fill=\"none\" stroke=\"black\" d=\"M1527.74,-72C1526.27,-63.56 1524.71,-54.59 1523.29,-46.47\"/>\n<polygon fill=\"black\" stroke=\"black\" points=\"1526.7,-45.65 1521.54,-36.4 1519.81,-46.86 1526.7,-45.65\"/>\n</g>\n<!-- 1056 -->\n<g id=\"node39\" class=\"node\">\n<title>1056</title>\n<path fill=\"#c0c0c0\" stroke=\"black\" d=\"M1605.5,-36C1605.5,-36 1575.5,-36 1575.5,-36 1569.5,-36 1563.5,-30 1563.5,-24 1563.5,-24 1563.5,-12 1563.5,-12 1563.5,-6 1569.5,0 1575.5,0 1575.5,0 1605.5,0 1605.5,0 1611.5,0 1617.5,-6 1617.5,-12 1617.5,-12 1617.5,-24 1617.5,-24 1617.5,-30 1611.5,-36 1605.5,-36\"/>\n<text text-anchor=\"middle\" x=\"1590.5\" y=\"-14.3\" font-family=\"Helvetica,sans-Serif\" font-size=\"14.00\">(...)</text>\n</g>\n<!-- 702&#45;&gt;1056 -->\n<g id=\"edge38\" class=\"edge\">\n<title>702&#45;&gt;1056</title>\n<path fill=\"none\" stroke=\"black\" d=\"M1555.37,-72C1561.34,-63 1567.71,-53.38 1573.37,-44.84\"/>\n<polygon fill=\"black\" stroke=\"black\" points=\"1576.36,-46.67 1578.97,-36.4 1570.52,-42.81 1576.36,-46.67\"/>\n</g>\n<!-- 1066 -->\n<g id=\"node41\" class=\"node\">\n<title>1066</title>\n<path fill=\"#c0c0c0\" stroke=\"black\" d=\"M1725.5,-36C1725.5,-36 1695.5,-36 1695.5,-36 1689.5,-36 1683.5,-30 1683.5,-24 1683.5,-24 1683.5,-12 1683.5,-12 1683.5,-6 1689.5,0 1695.5,0 1695.5,0 1725.5,0 1725.5,0 1731.5,0 1737.5,-6 1737.5,-12 1737.5,-12 1737.5,-24 1737.5,-24 1737.5,-30 1731.5,-36 1725.5,-36\"/>\n<text text-anchor=\"middle\" x=\"1710.5\" y=\"-14.3\" font-family=\"Helvetica,sans-Serif\" font-size=\"14.00\">(...)</text>\n</g>\n<!-- 1065&#45;&gt;1066 -->\n<g id=\"edge40\" class=\"edge\">\n<title>1065&#45;&gt;1066</title>\n<path fill=\"none\" stroke=\"black\" d=\"M1722.21,-72C1720.32,-63.47 1718.32,-54.39 1716.51,-46.2\"/>\n<polygon fill=\"black\" stroke=\"black\" points=\"1719.92,-45.41 1714.34,-36.4 1713.08,-46.92 1719.92,-45.41\"/>\n</g>\n<!-- 1071 -->\n<g id=\"node42\" class=\"node\">\n<title>1071</title>\n<path fill=\"#c0c0c0\" stroke=\"black\" d=\"M1797.5,-36C1797.5,-36 1767.5,-36 1767.5,-36 1761.5,-36 1755.5,-30 1755.5,-24 1755.5,-24 1755.5,-12 1755.5,-12 1755.5,-6 1761.5,0 1767.5,0 1767.5,0 1797.5,0 1797.5,0 1803.5,0 1809.5,-6 1809.5,-12 1809.5,-12 1809.5,-24 1809.5,-24 1809.5,-30 1803.5,-36 1797.5,-36\"/>\n<text text-anchor=\"middle\" x=\"1782.5\" y=\"-14.3\" font-family=\"Helvetica,sans-Serif\" font-size=\"14.00\">(...)</text>\n</g>\n<!-- 1065&#45;&gt;1071 -->\n<g id=\"edge41\" class=\"edge\">\n<title>1065&#45;&gt;1071</title>\n<path fill=\"none\" stroke=\"black\" d=\"M1749.84,-72C1755.33,-63.09 1761.19,-53.58 1766.41,-45.11\"/>\n<polygon fill=\"black\" stroke=\"black\" points=\"1769.51,-46.75 1771.77,-36.4 1763.55,-43.08 1769.51,-46.75\"/>\n</g>\n<!-- 1115 -->\n<g id=\"node44\" class=\"node\">\n<title>1115</title>\n<path fill=\"#4ea7e8\" stroke=\"black\" d=\"M1996.5,-140C1996.5,-140 1846.5,-140 1846.5,-140 1840.5,-140 1834.5,-134 1834.5,-128 1834.5,-128 1834.5,-84 1834.5,-84 1834.5,-78 1840.5,-72 1846.5,-72 1846.5,-72 1996.5,-72 1996.5,-72 2002.5,-72 2008.5,-78 2008.5,-84 2008.5,-84 2008.5,-128 2008.5,-128 2008.5,-134 2002.5,-140 1996.5,-140\"/>\n<text text-anchor=\"start\" x=\"1842.5\" y=\"-124.8\" font-family=\"Helvetica,sans-Serif\" font-size=\"14.00\">d1_glucose_min ≤ 177.5</text>\n<text text-anchor=\"start\" x=\"1889.5\" y=\"-109.8\" font-family=\"Helvetica,sans-Serif\" font-size=\"14.00\">gini = 0.17</text>\n<text text-anchor=\"start\" x=\"1873\" y=\"-94.8\" font-family=\"Helvetica,sans-Serif\" font-size=\"14.00\">samples = 1172</text>\n<text text-anchor=\"start\" x=\"1863.5\" y=\"-79.8\" font-family=\"Helvetica,sans-Serif\" font-size=\"14.00\">value = [110, 1062]</text>\n</g>\n<!-- 1114&#45;&gt;1115 -->\n<g id=\"edge43\" class=\"edge\">\n<title>1114&#45;&gt;1115</title>\n<path fill=\"none\" stroke=\"black\" d=\"M1921.5,-175.88C1921.5,-167.78 1921.5,-158.98 1921.5,-150.47\"/>\n<polygon fill=\"black\" stroke=\"black\" points=\"1925,-150.3 1921.5,-140.3 1918,-150.3 1925,-150.3\"/>\n</g>\n<!-- 1374 -->\n<g id=\"node47\" class=\"node\">\n<title>1374</title>\n<path fill=\"#e58139\" stroke=\"black\" d=\"M2110,-132.5C2110,-132.5 2039,-132.5 2039,-132.5 2033,-132.5 2027,-126.5 2027,-120.5 2027,-120.5 2027,-91.5 2027,-91.5 2027,-85.5 2033,-79.5 2039,-79.5 2039,-79.5 2110,-79.5 2110,-79.5 2116,-79.5 2122,-85.5 2122,-91.5 2122,-91.5 2122,-120.5 2122,-120.5 2122,-126.5 2116,-132.5 2110,-132.5\"/>\n<text text-anchor=\"start\" x=\"2046.5\" y=\"-117.3\" font-family=\"Helvetica,sans-Serif\" font-size=\"14.00\">gini = 0.0</text>\n<text text-anchor=\"start\" x=\"2037\" y=\"-102.3\" font-family=\"Helvetica,sans-Serif\" font-size=\"14.00\">samples = 4</text>\n<text text-anchor=\"start\" x=\"2035\" y=\"-87.3\" font-family=\"Helvetica,sans-Serif\" font-size=\"14.00\">value = [4, 0]</text>\n</g>\n<!-- 1114&#45;&gt;1374 -->\n<g id=\"edge46\" class=\"edge\">\n<title>1114&#45;&gt;1374</title>\n<path fill=\"none\" stroke=\"black\" d=\"M1971.17,-175.88C1989.32,-163.79 2009.77,-150.15 2027.66,-138.22\"/>\n<polygon fill=\"black\" stroke=\"black\" points=\"2029.84,-140.98 2036.22,-132.52 2025.96,-135.15 2029.84,-140.98\"/>\n</g>\n<!-- 1116 -->\n<g id=\"node45\" class=\"node\">\n<title>1116</title>\n<path fill=\"#c0c0c0\" stroke=\"black\" d=\"M1883.5,-36C1883.5,-36 1853.5,-36 1853.5,-36 1847.5,-36 1841.5,-30 1841.5,-24 1841.5,-24 1841.5,-12 1841.5,-12 1841.5,-6 1847.5,0 1853.5,0 1853.5,0 1883.5,0 1883.5,0 1889.5,0 1895.5,-6 1895.5,-12 1895.5,-12 1895.5,-24 1895.5,-24 1895.5,-30 1889.5,-36 1883.5,-36\"/>\n<text text-anchor=\"middle\" x=\"1868.5\" y=\"-14.3\" font-family=\"Helvetica,sans-Serif\" font-size=\"14.00\">(...)</text>\n</g>\n<!-- 1115&#45;&gt;1116 -->\n<g id=\"edge44\" class=\"edge\">\n<title>1115&#45;&gt;1116</title>\n<path fill=\"none\" stroke=\"black\" d=\"M1901.16,-72C1895.67,-63.09 1889.81,-53.58 1884.59,-45.11\"/>\n<polygon fill=\"black\" stroke=\"black\" points=\"1887.45,-43.08 1879.23,-36.4 1881.49,-46.75 1887.45,-43.08\"/>\n</g>\n<!-- 1349 -->\n<g id=\"node46\" class=\"node\">\n<title>1349</title>\n<path fill=\"#c0c0c0\" stroke=\"black\" d=\"M1955.5,-36C1955.5,-36 1925.5,-36 1925.5,-36 1919.5,-36 1913.5,-30 1913.5,-24 1913.5,-24 1913.5,-12 1913.5,-12 1913.5,-6 1919.5,0 1925.5,0 1925.5,0 1955.5,0 1955.5,0 1961.5,0 1967.5,-6 1967.5,-12 1967.5,-12 1967.5,-24 1967.5,-24 1967.5,-30 1961.5,-36 1955.5,-36\"/>\n<text text-anchor=\"middle\" x=\"1940.5\" y=\"-14.3\" font-family=\"Helvetica,sans-Serif\" font-size=\"14.00\">(...)</text>\n</g>\n<!-- 1115&#45;&gt;1349 -->\n<g id=\"edge45\" class=\"edge\">\n<title>1115&#45;&gt;1349</title>\n<path fill=\"none\" stroke=\"black\" d=\"M1928.79,-72C1930.68,-63.47 1932.68,-54.39 1934.49,-46.2\"/>\n<polygon fill=\"black\" stroke=\"black\" points=\"1937.92,-46.92 1936.66,-36.4 1931.08,-45.41 1937.92,-46.92\"/>\n</g>\n</g>\n</svg>\n",
      "text/plain": [
       "<graphviz.sources.Source at 0x1fc44deb9d0>"
      ]
     },
     "execution_count": 26,
     "metadata": {},
     "output_type": "execute_result"
    }
   ],
   "source": [
    "# Create a decision tree graph\n",
    "import graphviz \n",
    "dot_data = tree.export_graphviz(\n",
    "    tree_clf, out_file=None,\n",
    "    max_depth=4, \n",
    "    feature_names = fn,\n",
    "    filled=True, rounded=True,  \n",
    "    special_characters=True)  \n",
    "\n",
    "import pydotplus\n",
    "graph = pydotplus.graph_from_dot_data(dot_data)\n",
    "graph.write_png('clf_tree_vis.png')\n",
    "\n",
    "graph = graphviz.Source(dot_data)  \n",
    "graph "
   ]
  }
 ],
 "metadata": {
  "kernelspec": {
   "display_name": "base",
   "language": "python",
   "name": "python3"
  },
  "language_info": {
   "codemirror_mode": {
    "name": "ipython",
    "version": 3
   },
   "file_extension": ".py",
   "mimetype": "text/x-python",
   "name": "python",
   "nbconvert_exporter": "python",
   "pygments_lexer": "ipython3",
   "version": "3.9.12"
  },
  "orig_nbformat": 4,
  "vscode": {
   "interpreter": {
    "hash": "22b72a48d9b597c58d12f1daeb3c3cac8f5d5763dfeedd797d95f395bde95ce1"
   }
  }
 },
 "nbformat": 4,
 "nbformat_minor": 2
}
